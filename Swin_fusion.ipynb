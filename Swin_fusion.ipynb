{
  "nbformat": 4,
  "nbformat_minor": 0,
  "metadata": {
    "colab": {
      "provenance": [],
      "gpuType": "T4"
    },
    "kernelspec": {
      "name": "python3",
      "display_name": "Python 3"
    },
    "language_info": {
      "name": "python"
    },
    "accelerator": "GPU",
    "gpuClass": "standard"
  },
  "cells": [
    {
      "cell_type": "code",
      "source": [
        "!pip install einops"
      ],
      "metadata": {
        "colab": {
          "base_uri": "https://localhost:8080/"
        },
        "id": "RFVq9VUBWZ09",
        "outputId": "336ca32f-d602-4409-a3dc-1fb02cb5e6f0"
      },
      "execution_count": null,
      "outputs": [
        {
          "output_type": "stream",
          "name": "stdout",
          "text": [
            "Looking in indexes: https://pypi.org/simple, https://us-python.pkg.dev/colab-wheels/public/simple/\n",
            "Requirement already satisfied: einops in /usr/local/lib/python3.10/dist-packages (0.6.1)\n"
          ]
        }
      ]
    },
    {
      "cell_type": "code",
      "source": [
        "cd /content/drive/MyDrive/MONAI"
      ],
      "metadata": {
        "colab": {
          "base_uri": "https://localhost:8080/"
        },
        "id": "2kgvOwGKNGgv",
        "outputId": "ca9207e2-872a-4104-96dc-a38d6c6cc375"
      },
      "execution_count": null,
      "outputs": [
        {
          "output_type": "stream",
          "name": "stdout",
          "text": [
            "/content/drive/MyDrive/MONAI\n"
          ]
        }
      ]
    },
    {
      "cell_type": "code",
      "source": [
        "import importlib\n",
        "import torch\n",
        "import monai\n",
        "from torchsummary import summary"
      ],
      "metadata": {
        "id": "sdrI2SErck5P"
      },
      "execution_count": null,
      "outputs": []
    },
    {
      "cell_type": "code",
      "source": [
        "from monai.networks.nets import swin_fusion_od2\n",
        "swin_unetr = importlib.reload(monai.networks.nets.swin_fusion_od2)\n",
        "\n",
        "SwinUNETR = swin_unetr.SwinUNETR"
      ],
      "metadata": {
        "id": "KnQmdInGdtVP"
      },
      "execution_count": null,
      "outputs": []
    },
    {
      "cell_type": "code",
      "execution_count": null,
      "metadata": {
        "id": "d5216ac6"
      },
      "outputs": [],
      "source": [
        "import os\n",
        "import shutil\n",
        "import tempfile\n",
        "\n",
        "import matplotlib.pyplot as plt\n",
        "import numpy as np\n",
        "from PIL import Image\n",
        "import nibabel as nib\n",
        "import time\n",
        "import glob\n",
        "from tqdm import tqdm\n",
        "\n",
        "from monai.losses import DiceCELoss\n",
        "from monai.inferers import sliding_window_inference\n",
        "from monai.transforms import (\n",
        "    AsDiscrete,\n",
        "    AddChanneld,\n",
        "    Compose,\n",
        "    CropForegroundd,\n",
        "    LoadImaged,\n",
        "    Orientationd,\n",
        "    RandFlipd,\n",
        "    RandCropByPosNegLabeld,\n",
        "    RandShiftIntensityd,\n",
        "    ScaleIntensityRanged,\n",
        "    Spacingd,\n",
        "    RandRotate90d,\n",
        "    NormalizeIntensityd,\n",
        "    RandScaleIntensityd,\n",
        "    ToTensord,\n",
        ")\n",
        "\n",
        "from monai.config import print_config\n",
        "from monai.metrics import DiceMetric\n",
        "# from monai.networks.nets import SwinUNETR\n",
        "\n",
        "from monai.data import (\n",
        "    DataLoader,\n",
        "    ThreadDataLoader,\n",
        "    CacheDataset,\n",
        "    load_decathlon_datalist,\n",
        "    decollate_batch,\n",
        "    set_track_meta\n",
        ")\n",
        "\n",
        "\n",
        "import torch\n",
        "from torchsummary import summary\n",
        "\n",
        "import glob"
      ]
    },
    {
      "cell_type": "code",
      "execution_count": null,
      "metadata": {
        "id": "2c567ede"
      },
      "outputs": [],
      "source": [
        "root = \"/content/drive/MyDrive/PARSE/PAS/train\"\n",
        "train_images = sorted(glob.glob(os.path.join(root, '*', 'image', \"*.nii.gz\")))\n",
        "train_labels = sorted(glob.glob(os.path.join(root, '*', 'label', \"*.nii.gz\")))\n",
        "\n",
        "root = \"/content/drive/MyDrive/PARSE/PAS/val\"\n",
        "val_images = sorted(glob.glob(os.path.join(root, '*', 'image', \"*.nii.gz\")))\n",
        "val_labels = sorted(glob.glob(os.path.join(root, '*', 'label', \"*.nii.gz\")))\n",
        "\n",
        "traind = [{'image':i[0], 'label':i[1]} for i in zip(train_images, train_labels)]\n",
        "vald = [{'image':i[0], 'label':i[1]} for i in zip(val_images, val_labels)]"
      ]
    },
    {
      "cell_type": "code",
      "source": [
        "len(traind)"
      ],
      "metadata": {
        "colab": {
          "base_uri": "https://localhost:8080/"
        },
        "id": "axNl7xraabV-",
        "outputId": "deb8a065-23f9-4760-d0df-f9c134052067"
      },
      "execution_count": null,
      "outputs": [
        {
          "output_type": "execute_result",
          "data": {
            "text/plain": [
              "90"
            ]
          },
          "metadata": {},
          "execution_count": 7
        }
      ]
    },
    {
      "cell_type": "code",
      "source": [
        "size = 96; m = 50"
      ],
      "metadata": {
        "id": "4jaWCx_KXrqk"
      },
      "execution_count": null,
      "outputs": []
    },
    {
      "cell_type": "code",
      "execution_count": null,
      "metadata": {
        "id": "d9cfbc6f",
        "colab": {
          "base_uri": "https://localhost:8080/"
        },
        "outputId": "18803bd2-8143-4e74-c85c-5878bfe104aa"
      },
      "outputs": [
        {
          "output_type": "stream",
          "name": "stderr",
          "text": [
            "/content/drive/MyDrive/MONAI/monai/utils/deprecate_utils.py:321: FutureWarning: monai.transforms.io.dictionary LoadImaged.__init__:image_only: Current default value of argument `image_only=False` has been deprecated since version 1.1. It will be changed to `image_only=True` in version 1.3.\n",
            "  warn_deprecated(argname, msg, warning_category)\n",
            "/content/drive/MyDrive/MONAI/monai/utils/deprecate_utils.py:111: FutureWarning: <class 'monai.transforms.utility.array.AddChannel'>: Class `AddChannel` has been deprecated since version 0.8. please use MetaTensor data type and monai.transforms.EnsureChannelFirst instead.\n",
            "  warn_deprecated(obj, msg, warning_category)\n"
          ]
        }
      ],
      "source": [
        "train_transforms = Compose(\n",
        "    [\n",
        "        LoadImaged(keys=[\"image\", \"label\"]),\n",
        "        AddChanneld(keys=[\"image\", \"label\"]),\n",
        "        Orientationd(keys=[\"image\", \"label\"], axcodes=\"LPS\"),\n",
        "        Spacingd(\n",
        "            keys=[\"image\", \"label\"],\n",
        "            pixdim=(1.5, 1.5, 1.5),\n",
        "            mode=(\"bilinear\", \"nearest\"),\n",
        "        ),\n",
        "        # ScaleIntensityRanged(\n",
        "        #     keys=[\"image\"],\n",
        "        #     a_min=-1000,\n",
        "        #     a_max=1000,\n",
        "        #     b_min=0.0,\n",
        "        #     b_max=1.0,\n",
        "        #     clip=True,\n",
        "        # ),\n",
        "        CropForegroundd(keys=[\"image\", \"label\"], source_key=\"image\"),\n",
        "        RandCropByPosNegLabeld(\n",
        "            keys=[\"image\", \"label\"],\n",
        "            label_key=\"label\",\n",
        "            spatial_size=(size, size, size),\n",
        "            pos=1,\n",
        "            neg=1,\n",
        "            num_samples=1,\n",
        "            image_key=\"image\",\n",
        "            image_threshold=0,\n",
        "        ),\n",
        "        RandFlipd(\n",
        "            keys=[\"image\", \"label\"],\n",
        "            spatial_axis=[0],\n",
        "            prob=0.50,\n",
        "        ),\n",
        "        RandFlipd(\n",
        "            keys=[\"image\", \"label\"],\n",
        "            spatial_axis=[1],\n",
        "            prob=0.50,\n",
        "        ),\n",
        "        RandFlipd(\n",
        "            keys=[\"image\", \"label\"],\n",
        "            spatial_axis=[2],\n",
        "            prob=0.50,\n",
        "        ),\n",
        "        RandRotate90d(\n",
        "            keys=[\"image\", \"label\"],\n",
        "            prob=0.10,\n",
        "            max_k=3,\n",
        "        ),\n",
        "        RandShiftIntensityd(\n",
        "            keys=[\"image\"],\n",
        "            offsets=0.10,\n",
        "            prob=0.50,\n",
        "        ),\n",
        "        NormalizeIntensityd(keys=[\"image\"], nonzero=True, channel_wise=True),\n",
        "        RandScaleIntensityd(keys=[\"image\"], factors=0.1, prob=1.0),\n",
        "        RandShiftIntensityd(keys=[\"image\"], offsets=0.1, prob=1.0),\n",
        "        ToTensord(keys=[\"image\", \"label\"]),\n",
        "    ]\n",
        ")\n",
        "\n",
        "val_transforms = Compose(\n",
        "    [\n",
        "        LoadImaged(keys=[\"image\", \"label\"]),\n",
        "        AddChanneld(keys=[\"image\", \"label\"]),\n",
        "        Orientationd(keys=[\"image\", \"label\"], axcodes=\"LPS\"),\n",
        "        Spacingd(\n",
        "            keys=[\"image\", \"label\"],\n",
        "            pixdim=(1.5, 1.5, 1.5),\n",
        "            mode=(\"bilinear\", \"nearest\"),\n",
        "        ),\n",
        "        # ScaleIntensityRanged(\n",
        "        #     keys=[\"image\"], a_min=-1000, a_max=1000, b_min=0.0, b_max=1.0, clip=True\n",
        "        # ),\n",
        "        NormalizeIntensityd(keys=[\"image\"], nonzero=True, channel_wise=True),\n",
        "        CropForegroundd(keys=[\"image\", \"label\"], source_key=\"image\"),\n",
        "        ToTensord(keys=[\"image\", \"label\"]),\n",
        "    ]\n",
        ")"
      ]
    },
    {
      "cell_type": "code",
      "execution_count": null,
      "metadata": {
        "id": "c3dd0bd6",
        "outputId": "f7ca40a6-1b61-4d12-db22-26df775c6369",
        "colab": {
          "base_uri": "https://localhost:8080/"
        }
      },
      "outputs": [
        {
          "output_type": "stream",
          "name": "stderr",
          "text": [
            "Loading dataset: 100%|██████████| 90/90 [01:48<00:00,  1.21s/it]\n",
            "Loading dataset: 100%|██████████| 10/10 [00:16<00:00,  1.65s/it]\n"
          ]
        }
      ],
      "source": [
        "train_ds = CacheDataset(\n",
        "    data=traind,\n",
        "    transform=train_transforms,\n",
        "    cache_rate=1.0,\n",
        "    num_workers=2,\n",
        "    copy_cache=False,\n",
        ")\n",
        "# train_loader = DataLoader(\n",
        "#     train_ds, batch_size=1, shuffle=True, num_workers=2, pin_memory=True\n",
        "# )\n",
        "train_loader = ThreadDataLoader(train_ds, num_workers=0, batch_size=1, shuffle=True)\n",
        "\n",
        "val_ds = CacheDataset(\n",
        "    data=vald, transform=val_transforms, cache_rate=1.0, num_workers=2, copy_cache=False\n",
        ")\n",
        "# val_loader = DataLoader(\n",
        "#     val_ds, batch_size=1, shuffle=False, num_workers=2, pin_memory=True\n",
        "# )\n",
        "val_loader = ThreadDataLoader(val_ds, num_workers=0, batch_size=1)\n",
        "\n",
        "# set_track_meta(False)"
      ]
    },
    {
      "cell_type": "code",
      "source": [
        "# for i in range(1000000000000):\n",
        "#   pass"
      ],
      "metadata": {
        "id": "SQxDr3w8amfq"
      },
      "execution_count": null,
      "outputs": []
    },
    {
      "cell_type": "code",
      "source": [
        "len(train_ds[0])"
      ],
      "metadata": {
        "colab": {
          "base_uri": "https://localhost:8080/"
        },
        "id": "UhS15uq8uPhC",
        "outputId": "2f63145b-da65-4513-d9c1-a6978c3c4a08"
      },
      "execution_count": null,
      "outputs": [
        {
          "output_type": "execute_result",
          "data": {
            "text/plain": [
              "2"
            ]
          },
          "metadata": {},
          "execution_count": 14
        }
      ]
    },
    {
      "cell_type": "code",
      "source": [
        "train_ds[0][0]['image'].shape"
      ],
      "metadata": {
        "colab": {
          "base_uri": "https://localhost:8080/"
        },
        "id": "zH6SPNYSiT6W",
        "outputId": "2c39ad00-2070-4df2-ff1f-b73862f585df"
      },
      "execution_count": null,
      "outputs": [
        {
          "output_type": "execute_result",
          "data": {
            "text/plain": [
              "torch.Size([1, 96, 96, 96])"
            ]
          },
          "metadata": {},
          "execution_count": 15
        }
      ]
    },
    {
      "cell_type": "code",
      "source": [
        "len(train_ds)"
      ],
      "metadata": {
        "colab": {
          "base_uri": "https://localhost:8080/"
        },
        "id": "M8KxxVQxa5Ai",
        "outputId": "b4b964df-94c3-4f9f-b244-6475a288901e"
      },
      "execution_count": null,
      "outputs": [
        {
          "output_type": "execute_result",
          "data": {
            "text/plain": [
              "90"
            ]
          },
          "metadata": {},
          "execution_count": 16
        }
      ]
    },
    {
      "cell_type": "code",
      "source": [
        "device = torch.device(\"cuda\" if torch.cuda.is_available() else \"cpu\")\n",
        "\n",
        "model = SwinUNETR(\n",
        "    img_size=(size, size, size),\n",
        "    in_channels=1,\n",
        "    out_channels=2,\n",
        "    feature_size=48,\n",
        "    use_checkpoint=False,\n",
        "    skip_pool = 'max',\n",
        ").to(device)"
      ],
      "metadata": {
        "colab": {
          "base_uri": "https://localhost:8080/"
        },
        "id": "WQuoMjgFUD4y",
        "outputId": "e51a5349-67d5-4a26-bd4f-7c2b2bbdaa21"
      },
      "execution_count": null,
      "outputs": [
        {
          "output_type": "stream",
          "name": "stdout",
          "text": [
            "Swin fusion UNETR - overdrive\n"
          ]
        }
      ]
    },
    {
      "cell_type": "code",
      "source": [
        "try:\n",
        "    import torch._dynamo as dynamo\n",
        "    torch._dynamo.config.verbose = True\n",
        "    torch.backends.cudnn.benchmark = True\n",
        "    model = torch.compile(model, fullgraph=False)\n",
        "    print(\"Model compiled set\")\n",
        "except Exception as err:\n",
        "    print(f\"Model compile not supported: {err}\")"
      ],
      "metadata": {
        "colab": {
          "base_uri": "https://localhost:8080/"
        },
        "id": "p5nROLJQm8Ac",
        "outputId": "498e682c-d300-4c25-bf12-93785a83ea53"
      },
      "execution_count": null,
      "outputs": [
        {
          "output_type": "stream",
          "name": "stdout",
          "text": [
            "Model compiled set\n"
          ]
        }
      ]
    },
    {
      "cell_type": "code",
      "execution_count": null,
      "metadata": {
        "id": "ee407c3c",
        "outputId": "d390e3de-44fd-4e8d-912e-7dda229a4cc2",
        "colab": {
          "base_uri": "https://localhost:8080/"
        }
      },
      "outputs": [
        {
          "output_type": "execute_result",
          "data": {
            "text/plain": [
              "<All keys matched successfully>"
            ]
          },
          "metadata": {},
          "execution_count": 13
        }
      ],
      "source": [
        "# #Channge this while training in GPU\n",
        "# weight = torch.load(\"/content/drive/MyDrive/PARSE/PAS/weights/pretrained.pt\", map_location=torch.device('cpu'))\n",
        "# weight = torch.load(\"/content/drive/MyDrive/PARSE/PAS/weights/swin_fusion.pth\", map_location=torch.device('cpu'))\n",
        "weight = torch.load(\"/content/drive/MyDrive/PARSE/PAS/weights/max/swin_fusion_od2.pth\", map_location=torch.device('cuda'))\n",
        "model.load_state_dict(weight)\n",
        "\n",
        "## Uncomment here on\n",
        "# scratch_state = model.state_dict()\n",
        "# pre_state = torch.load(f\"/content/drive/MyDrive/PARSE/Pretrain/weights/swin_pre{m}.pth\")\n",
        "\n",
        "# pre_state['out.conv.conv.weight'] = scratch_state['out.conv.conv.weight']\n",
        "# pre_state['out.conv.conv.bias'] = scratch_state['out.conv.conv.bias']\n",
        "# model.load_state_dict(pre_state)\n",
        "\n",
        "# model.load_state_dict(torch.load(f'/content/drive/MyDrive/PARSE/PAS/weights/swin_pre{m}.pth', map_location='cpu'))"
      ]
    },
    {
      "cell_type": "code",
      "execution_count": null,
      "metadata": {
        "id": "83a8da17"
      },
      "outputs": [],
      "source": [
        "torch.backends.cudnn.benchmark = True\n",
        "torch.backends.cudnn.enabled = True\n",
        "loss_function = DiceCELoss(to_onehot_y=True, softmax=True)\n",
        "optimizer = torch.optim.AdamW(model.parameters(), lr=0.5e-4, weight_decay=1e-5)\n",
        "\n",
        "scaler = torch.cuda.amp.GradScaler()"
      ]
    },
    {
      "cell_type": "code",
      "source": [
        "# from torch._C import set_anomaly_enabled\n",
        "set_track_meta(False)"
      ],
      "metadata": {
        "id": "rRQi9ZA5swCn"
      },
      "execution_count": null,
      "outputs": []
    },
    {
      "cell_type": "code",
      "execution_count": null,
      "metadata": {
        "id": "1bfb48be"
      },
      "outputs": [],
      "source": [
        "def validation(epoch_iterator_val):\n",
        "    model.eval()\n",
        "    with torch.no_grad():\n",
        "        for step, batch in enumerate(epoch_iterator_val):\n",
        "            val_inputs, val_labels = (batch[\"image\"].to(device), batch[\"label\"].to(device))\n",
        "            val_outputs = sliding_window_inference(val_inputs, (size, size, size), 1, model)\n",
        "            val_labels_list = decollate_batch(val_labels)\n",
        "            val_labels_convert = [post_label(val_label_tensor) for val_label_tensor in val_labels_list]\n",
        "            val_outputs_list = decollate_batch(val_outputs)\n",
        "            val_output_convert = [post_pred(val_pred_tensor) for val_pred_tensor in val_outputs_list]\n",
        "            dice_metric(y_pred=val_output_convert, y=val_labels_convert)\n",
        "            epoch_iterator_val.set_description(\n",
        "                \"Validate (%d / %d Steps)\" % (global_step, max_iterations)\n",
        "            )\n",
        "        mean_dice_val = dice_metric.aggregate().item()\n",
        "        dice_metric.reset()\n",
        "    return mean_dice_val\n",
        "\n",
        "\n",
        "def train(global_step, train_loader, dice_val_best, global_step_best):\n",
        "    model.train()\n",
        "    batch_size = 2\n",
        "    epoch_loss = 0\n",
        "    step = 0\n",
        "    epoch_iterator = tqdm(\n",
        "        train_loader, desc=\"Training (X / X Steps) (loss=X.X)\", dynamic_ncols=True\n",
        "    )\n",
        "    for step, batch in enumerate(epoch_iterator):\n",
        "        step += 1\n",
        "        x, y = (batch[\"image\"].to(device), batch[\"label\"].to(device))\n",
        "\n",
        "        with torch.cuda.amp.autocast():\n",
        "            logit_map = model(x)\n",
        "            loss = loss_function(logit_map, y)\n",
        "            loss = loss / batch_size\n",
        "\n",
        "        scaler.scale(loss).backward()\n",
        "\n",
        "        if (step+1)%batch_size==0:\n",
        "          scaler.step(optimizer)\n",
        "          scaler.update()\n",
        "          optimizer.zero_grad()\n",
        "\n",
        "        epoch_loss += loss.item()\n",
        "        epoch_iterator.set_description(\n",
        "            \"Training (%d / %d Steps) (loss=%2.5f)\"\n",
        "            % (global_step, max_iterations, loss)\n",
        "        )\n",
        "        if (\n",
        "            global_step % eval_num == 0 and global_step != 0\n",
        "        ) or global_step == max_iterations:\n",
        "            epoch_iterator_val = tqdm(\n",
        "                val_loader, desc=\"Validate (X / X Steps) (dice=X.X)\", dynamic_ncols=True\n",
        "            )\n",
        "            dice_val = validation(epoch_iterator_val)\n",
        "            epoch_loss /= step\n",
        "            epoch_loss_values.append(epoch_loss)\n",
        "            metric_values.append(dice_val)\n",
        "            if dice_val > dice_val_best:\n",
        "                dice_val_best = dice_val\n",
        "                global_step_best = global_step\n",
        "                torch.save(\n",
        "                    model.state_dict(), f\"/content/drive/MyDrive/PARSE/PAS/weights/max/swin_fusion_od2.pth\"\n",
        "                )\n",
        "                print(\n",
        "                    \"Model Was Saved ! Current Best Avg. Dice: {} Current Avg. Dice: {}\".format(\n",
        "                        dice_val_best, dice_val\n",
        "                    )\n",
        "                )\n",
        "            else:\n",
        "                print(\n",
        "                    \"Model Was Not Saved ! Current Best Avg. Dice: {} Current Avg. Dice: {}\".format(\n",
        "                        dice_val_best, dice_val\n",
        "                    )\n",
        "                )\n",
        "        global_step += 1\n",
        "\n",
        "    return global_step, dice_val_best, global_step_best"
      ]
    },
    {
      "cell_type": "code",
      "source": [
        "epoch_loss_values = []\n",
        "metric_values = []"
      ],
      "metadata": {
        "id": "N8fW6s2j92XY"
      },
      "execution_count": null,
      "outputs": []
    },
    {
      "cell_type": "code",
      "source": [
        "epoch_loss_values = list(np.load(f'/content/drive/MyDrive/PARSE/PAS/weights/max/swin_fusion_od2_epoch_loss.npy'))\n",
        "metric_values = list(np.load(f'/content/drive/MyDrive/PARSE/PAS/weights/max/swin_fusion_od2_dice_val.npy'))"
      ],
      "metadata": {
        "id": "JjBOIItdx3NN"
      },
      "execution_count": null,
      "outputs": []
    },
    {
      "cell_type": "code",
      "source": [
        "torch._dynamo.config.verbose=True\n",
        "torch._dynamo.config.suppress_errors = True"
      ],
      "metadata": {
        "id": "wGcEaX8zkvag"
      },
      "execution_count": null,
      "outputs": []
    },
    {
      "cell_type": "code",
      "source": [
        "max_iterations = 6800\n",
        "eval_num = 200\n",
        "post_label = AsDiscrete(to_onehot=2)\n",
        "post_pred = AsDiscrete(argmax=True, to_onehot=2)\n",
        "dice_metric = DiceMetric(include_background=False, reduction=\"mean\", get_not_nans=False)\n",
        "global_step = 0\n",
        "dice_val_best = 0.841\n",
        "global_step_best = 0\n",
        "\n",
        "while global_step < max_iterations:\n",
        "    global_step, dice_val_best, global_step_best = train(\n",
        "        global_step, train_loader, dice_val_best, global_step_best\n",
        "    )\n",
        "# model.load_state_dict(torch.load(\"/content/drive/MyDrive/PARSE/PAS/weights/best_metric_model_swin.pth\"))\n"
      ],
      "metadata": {
        "colab": {
          "base_uri": "https://localhost:8080/"
        },
        "id": "vKfotG9XWrlk",
        "outputId": "ff26500f-0120-444f-a767-f8c258b18472"
      },
      "execution_count": null,
      "outputs": [
        {
          "metadata": {
            "tags": null
          },
          "name": "stderr",
          "output_type": "stream",
          "text": [
            "Training (89 / 6800 Steps) (loss=0.04605): 100%|██████████| 90/90 [00:59<00:00,  1.51it/s]\n",
            "Training (179 / 6800 Steps) (loss=0.06289): 100%|██████████| 90/90 [01:00<00:00,  1.49it/s]\n",
            "Training (200 / 6800 Steps) (loss=0.06179):  22%|██▏       | 20/90 [00:14<00:46,  1.50it/s]\n",
            "Validate (X / X Steps) (dice=X.X):   0%|          | 0/10 [00:00<?, ?it/s]\u001b[A\n",
            "Validate (180 / 6800 Steps):   0%|          | 0/10 [00:06<?, ?it/s]      \u001b[A\n",
            "Validate (180 / 6800 Steps):  10%|█         | 1/10 [00:06<01:00,  6.69s/it]\u001b[A\n",
            "Validate (180 / 6800 Steps):  10%|█         | 1/10 [00:21<01:00,  6.69s/it]\u001b[A\n",
            "Validate (180 / 6800 Steps):  20%|██        | 2/10 [00:21<01:32, 11.58s/it]\u001b[A\n",
            "Validate (180 / 6800 Steps):  20%|██        | 2/10 [00:36<01:32, 11.58s/it]\u001b[A\n",
            "Validate (180 / 6800 Steps):  30%|███       | 3/10 [00:36<01:32, 13.17s/it]\u001b[A\n",
            "Validate (180 / 6800 Steps):  30%|███       | 3/10 [00:46<01:32, 13.17s/it]\u001b[A\n",
            "Validate (180 / 6800 Steps):  40%|████      | 4/10 [00:46<01:11, 11.95s/it]\u001b[A\n",
            "Validate (180 / 6800 Steps):  40%|████      | 4/10 [01:01<01:11, 11.95s/it]\u001b[A\n",
            "Validate (180 / 6800 Steps):  50%|█████     | 5/10 [01:01<01:05, 13.09s/it]\u001b[A\n",
            "Validate (180 / 6800 Steps):  50%|█████     | 5/10 [01:12<01:05, 13.09s/it]\u001b[A\n",
            "Validate (180 / 6800 Steps):  60%|██████    | 6/10 [01:12<00:48, 12.07s/it]\u001b[A\n",
            "Validate (180 / 6800 Steps):  60%|██████    | 6/10 [01:22<00:48, 12.07s/it]\u001b[A\n",
            "Validate (180 / 6800 Steps):  70%|███████   | 7/10 [01:22<00:34, 11.42s/it]\u001b[A\n",
            "Validate (180 / 6800 Steps):  70%|███████   | 7/10 [01:37<00:34, 11.42s/it]\u001b[A\n",
            "Validate (180 / 6800 Steps):  80%|████████  | 8/10 [01:37<00:25, 12.61s/it]\u001b[A\n",
            "Validate (180 / 6800 Steps):  80%|████████  | 8/10 [01:47<00:25, 12.61s/it]\u001b[A\n",
            "Validate (180 / 6800 Steps):  90%|█████████ | 9/10 [01:47<00:11, 11.84s/it]\u001b[A\n",
            "Validate (180 / 6800 Steps):  90%|█████████ | 9/10 [02:02<00:11, 11.84s/it]\u001b[A\n",
            "Validate (180 / 6800 Steps): 100%|██████████| 10/10 [02:02<00:00, 12.27s/it]\n",
            "Training (200 / 6800 Steps) (loss=0.06179):  23%|██▎       | 21/90 [02:16<43:08, 37.51s/it]"
          ]
        },
        {
          "metadata": {
            "tags": null
          },
          "name": "stdout",
          "output_type": "stream",
          "text": [
            "Model Was Not Saved ! Current Best Avg. Dice: 0.841 Current Avg. Dice: 0.8404842615127563\n"
          ]
        },
        {
          "metadata": {
            "tags": null
          },
          "name": "stderr",
          "output_type": "stream",
          "text": [
            "Training (269 / 6800 Steps) (loss=0.08471): 100%|██████████| 90/90 [03:03<00:00,  2.04s/it]\n",
            "Training (359 / 6800 Steps) (loss=0.03597): 100%|██████████| 90/90 [01:01<00:00,  1.47it/s]\n",
            "Training (400 / 6800 Steps) (loss=0.07515):  44%|████▍     | 40/90 [00:27<00:33,  1.47it/s]\n",
            "Validate (X / X Steps) (dice=X.X):   0%|          | 0/10 [00:00<?, ?it/s]\u001b[A\n",
            "Validate (360 / 6800 Steps):   0%|          | 0/10 [00:06<?, ?it/s]      \u001b[A\n",
            "Validate (360 / 6800 Steps):  10%|█         | 1/10 [00:06<01:01,  6.85s/it]\u001b[A\n",
            "Validate (360 / 6800 Steps):  10%|█         | 1/10 [00:22<01:01,  6.85s/it]\u001b[A\n",
            "Validate (360 / 6800 Steps):  20%|██        | 2/10 [00:22<01:34, 11.84s/it]\u001b[A\n",
            "Validate (360 / 6800 Steps):  20%|██        | 2/10 [00:37<01:34, 11.84s/it]\u001b[A\n",
            "Validate (360 / 6800 Steps):  30%|███       | 3/10 [00:37<01:33, 13.42s/it]\u001b[A\n",
            "Validate (360 / 6800 Steps):  30%|███       | 3/10 [00:47<01:33, 13.42s/it]\u001b[A\n",
            "Validate (360 / 6800 Steps):  40%|████      | 4/10 [00:47<01:12, 12.15s/it]\u001b[A\n",
            "Validate (360 / 6800 Steps):  40%|████      | 4/10 [01:02<01:12, 12.15s/it]\u001b[A\n",
            "Validate (360 / 6800 Steps):  50%|█████     | 5/10 [01:02<01:06, 13.25s/it]\u001b[A\n",
            "Validate (360 / 6800 Steps):  50%|█████     | 5/10 [01:13<01:06, 13.25s/it]\u001b[A\n",
            "Validate (360 / 6800 Steps):  60%|██████    | 6/10 [01:13<00:48, 12.19s/it]\u001b[A\n",
            "Validate (360 / 6800 Steps):  60%|██████    | 6/10 [01:23<00:48, 12.19s/it]\u001b[A\n",
            "Validate (360 / 6800 Steps):  70%|███████   | 7/10 [01:23<00:34, 11.52s/it]\u001b[A\n",
            "Validate (360 / 6800 Steps):  70%|███████   | 7/10 [01:38<00:34, 11.52s/it]\u001b[A\n",
            "Validate (360 / 6800 Steps):  80%|████████  | 8/10 [01:38<00:25, 12.73s/it]\u001b[A\n",
            "Validate (360 / 6800 Steps):  80%|████████  | 8/10 [01:48<00:25, 12.73s/it]\u001b[A\n",
            "Validate (360 / 6800 Steps):  90%|█████████ | 9/10 [01:48<00:11, 11.94s/it]\u001b[A\n",
            "Validate (360 / 6800 Steps):  90%|█████████ | 9/10 [02:04<00:11, 11.94s/it]\u001b[A\n",
            "Validate (360 / 6800 Steps): 100%|██████████| 10/10 [02:04<00:00, 12.40s/it]\n",
            "Training (400 / 6800 Steps) (loss=0.07515):  46%|████▌     | 41/90 [02:32<30:57, 37.90s/it]"
          ]
        },
        {
          "metadata": {
            "tags": null
          },
          "name": "stdout",
          "output_type": "stream",
          "text": [
            "Model Was Not Saved ! Current Best Avg. Dice: 0.841 Current Avg. Dice: 0.8397798538208008\n"
          ]
        },
        {
          "metadata": {
            "tags": null
          },
          "name": "stderr",
          "output_type": "stream",
          "text": [
            "Training (449 / 6800 Steps) (loss=0.03973): 100%|██████████| 90/90 [03:05<00:00,  2.06s/it]\n",
            "Training (539 / 6800 Steps) (loss=0.03093): 100%|██████████| 90/90 [01:01<00:00,  1.47it/s]\n",
            "Training (600 / 6800 Steps) (loss=0.04494):  67%|██████▋   | 60/90 [00:41<00:20,  1.46it/s]\n",
            "Validate (X / X Steps) (dice=X.X):   0%|          | 0/10 [00:00<?, ?it/s]\u001b[A\n",
            "Validate (540 / 6800 Steps):   0%|          | 0/10 [00:06<?, ?it/s]      \u001b[A\n",
            "Validate (540 / 6800 Steps):  10%|█         | 1/10 [00:06<01:01,  6.85s/it]\u001b[A\n",
            "Validate (540 / 6800 Steps):  10%|█         | 1/10 [00:22<01:01,  6.85s/it]\u001b[A\n",
            "Validate (540 / 6800 Steps):  20%|██        | 2/10 [00:22<01:34, 11.82s/it]\u001b[A\n",
            "Validate (540 / 6800 Steps):  20%|██        | 2/10 [00:37<01:34, 11.82s/it]\u001b[A\n",
            "Validate (540 / 6800 Steps):  30%|███       | 3/10 [00:37<01:33, 13.42s/it]\u001b[A\n",
            "Validate (540 / 6800 Steps):  30%|███       | 3/10 [00:47<01:33, 13.42s/it]\u001b[A\n",
            "Validate (540 / 6800 Steps):  40%|████      | 4/10 [00:47<01:12, 12.15s/it]\u001b[A\n",
            "Validate (540 / 6800 Steps):  40%|████      | 4/10 [01:02<01:12, 12.15s/it]\u001b[A\n",
            "Validate (540 / 6800 Steps):  50%|█████     | 5/10 [01:02<01:06, 13.27s/it]\u001b[A\n",
            "Validate (540 / 6800 Steps):  50%|█████     | 5/10 [01:13<01:06, 13.27s/it]\u001b[A\n",
            "Validate (540 / 6800 Steps):  60%|██████    | 6/10 [01:13<00:48, 12.20s/it]\u001b[A\n",
            "Validate (540 / 6800 Steps):  60%|██████    | 6/10 [01:23<00:48, 12.20s/it]\u001b[A\n",
            "Validate (540 / 6800 Steps):  70%|███████   | 7/10 [01:23<00:34, 11.53s/it]\u001b[A\n",
            "Validate (540 / 6800 Steps):  70%|███████   | 7/10 [01:38<00:34, 11.53s/it]\u001b[A\n",
            "Validate (540 / 6800 Steps):  80%|████████  | 8/10 [01:38<00:25, 12.71s/it]\u001b[A\n",
            "Validate (540 / 6800 Steps):  80%|████████  | 8/10 [01:48<00:25, 12.71s/it]\u001b[A\n",
            "Validate (540 / 6800 Steps):  90%|█████████ | 9/10 [01:48<00:11, 11.92s/it]\u001b[A\n",
            "Validate (540 / 6800 Steps):  90%|█████████ | 9/10 [02:03<00:11, 11.92s/it]\u001b[A\n",
            "Validate (540 / 6800 Steps): 100%|██████████| 10/10 [02:03<00:00, 12.40s/it]\n",
            "Training (600 / 6800 Steps) (loss=0.04494):  68%|██████▊   | 61/90 [02:45<18:18, 37.88s/it]"
          ]
        },
        {
          "metadata": {
            "tags": null
          },
          "name": "stdout",
          "output_type": "stream",
          "text": [
            "Model Was Not Saved ! Current Best Avg. Dice: 0.841 Current Avg. Dice: 0.8406237363815308\n"
          ]
        },
        {
          "metadata": {
            "tags": null
          },
          "name": "stderr",
          "output_type": "stream",
          "text": [
            "Training (629 / 6800 Steps) (loss=0.04143): 100%|██████████| 90/90 [03:05<00:00,  2.06s/it]\n",
            "Training (719 / 6800 Steps) (loss=0.07488): 100%|██████████| 90/90 [01:01<00:00,  1.47it/s]\n",
            "Training (800 / 6800 Steps) (loss=0.08020):  89%|████████▉ | 80/90 [00:55<00:06,  1.49it/s]\n",
            "Validate (X / X Steps) (dice=X.X):   0%|          | 0/10 [00:00<?, ?it/s]\u001b[A\n",
            "Validate (720 / 6800 Steps):   0%|          | 0/10 [00:06<?, ?it/s]      \u001b[A\n",
            "Validate (720 / 6800 Steps):  10%|█         | 1/10 [00:06<01:01,  6.82s/it]\u001b[A\n",
            "Validate (720 / 6800 Steps):  10%|█         | 1/10 [00:22<01:01,  6.82s/it]\u001b[A\n",
            "Validate (720 / 6800 Steps):  20%|██        | 2/10 [00:22<01:34, 11.81s/it]\u001b[A\n",
            "Validate (720 / 6800 Steps):  20%|██        | 2/10 [00:37<01:34, 11.81s/it]\u001b[A\n",
            "Validate (720 / 6800 Steps):  30%|███       | 3/10 [00:37<01:33, 13.39s/it]\u001b[A\n",
            "Validate (720 / 6800 Steps):  30%|███       | 3/10 [00:47<01:33, 13.39s/it]\u001b[A\n",
            "Validate (720 / 6800 Steps):  40%|████      | 4/10 [00:47<01:12, 12.12s/it]\u001b[A\n",
            "Validate (720 / 6800 Steps):  40%|████      | 4/10 [01:02<01:12, 12.12s/it]\u001b[A\n",
            "Validate (720 / 6800 Steps):  50%|█████     | 5/10 [01:02<01:06, 13.22s/it]\u001b[A\n",
            "Validate (720 / 6800 Steps):  50%|█████     | 5/10 [01:12<01:06, 13.22s/it]\u001b[A\n",
            "Validate (720 / 6800 Steps):  60%|██████    | 6/10 [01:12<00:48, 12.18s/it]\u001b[A\n",
            "Validate (720 / 6800 Steps):  60%|██████    | 6/10 [01:23<00:48, 12.18s/it]\u001b[A\n",
            "Validate (720 / 6800 Steps):  70%|███████   | 7/10 [01:23<00:34, 11.52s/it]\u001b[A\n",
            "Validate (720 / 6800 Steps):  70%|███████   | 7/10 [01:38<00:34, 11.52s/it]\u001b[A\n",
            "Validate (720 / 6800 Steps):  80%|████████  | 8/10 [01:38<00:25, 12.71s/it]\u001b[A\n",
            "Validate (720 / 6800 Steps):  80%|████████  | 8/10 [01:48<00:25, 12.71s/it]\u001b[A\n",
            "Validate (720 / 6800 Steps):  90%|█████████ | 9/10 [01:48<00:11, 11.92s/it]\u001b[A\n",
            "Validate (720 / 6800 Steps):  90%|█████████ | 9/10 [02:03<00:11, 11.92s/it]\u001b[A\n",
            "Validate (720 / 6800 Steps): 100%|██████████| 10/10 [02:03<00:00, 12.38s/it]\n",
            "Training (800 / 6800 Steps) (loss=0.08020):  90%|█████████ | 81/90 [02:59<05:42, 38.04s/it]"
          ]
        },
        {
          "metadata": {
            "tags": null
          },
          "name": "stdout",
          "output_type": "stream",
          "text": [
            "Model Was Saved ! Current Best Avg. Dice: 0.8421430587768555 Current Avg. Dice: 0.8421430587768555\n"
          ]
        },
        {
          "metadata": {
            "tags": null
          },
          "name": "stderr",
          "output_type": "stream",
          "text": [
            "Training (809 / 6800 Steps) (loss=0.03795): 100%|██████████| 90/90 [03:05<00:00,  2.07s/it]\n",
            "Training (899 / 6800 Steps) (loss=0.04599): 100%|██████████| 90/90 [01:01<00:00,  1.47it/s]\n",
            "Training (989 / 6800 Steps) (loss=0.03662): 100%|██████████| 90/90 [01:01<00:00,  1.47it/s]\n",
            "Training (1000 / 6800 Steps) (loss=0.05703):  11%|█         | 10/90 [00:07<00:54,  1.48it/s]\n",
            "Validate (X / X Steps) (dice=X.X):   0%|          | 0/10 [00:00<?, ?it/s]\u001b[A\n",
            "Validate (990 / 6800 Steps):   0%|          | 0/10 [00:06<?, ?it/s]      \u001b[A\n",
            "Validate (990 / 6800 Steps):  10%|█         | 1/10 [00:06<01:01,  6.81s/it]\u001b[A\n",
            "Validate (990 / 6800 Steps):  10%|█         | 1/10 [00:22<01:01,  6.81s/it]\u001b[A\n",
            "Validate (990 / 6800 Steps):  20%|██        | 2/10 [00:22<01:34, 11.76s/it]\u001b[A\n",
            "Validate (990 / 6800 Steps):  20%|██        | 2/10 [00:37<01:34, 11.76s/it]\u001b[A\n",
            "Validate (990 / 6800 Steps):  30%|███       | 3/10 [00:37<01:33, 13.37s/it]\u001b[A\n",
            "Validate (990 / 6800 Steps):  30%|███       | 3/10 [00:47<01:33, 13.37s/it]\u001b[A\n",
            "Validate (990 / 6800 Steps):  40%|████      | 4/10 [00:47<01:12, 12.12s/it]\u001b[A\n",
            "Validate (990 / 6800 Steps):  40%|████      | 4/10 [01:02<01:12, 12.12s/it]\u001b[A\n",
            "Validate (990 / 6800 Steps):  50%|█████     | 5/10 [01:02<01:06, 13.27s/it]\u001b[A\n",
            "Validate (990 / 6800 Steps):  50%|█████     | 5/10 [01:13<01:06, 13.27s/it]\u001b[A\n",
            "Validate (990 / 6800 Steps):  60%|██████    | 6/10 [01:13<00:48, 12.23s/it]\u001b[A\n",
            "Validate (990 / 6800 Steps):  60%|██████    | 6/10 [01:23<00:48, 12.23s/it]\u001b[A\n",
            "Validate (990 / 6800 Steps):  70%|███████   | 7/10 [01:23<00:34, 11.57s/it]\u001b[A\n",
            "Validate (990 / 6800 Steps):  70%|███████   | 7/10 [01:38<00:34, 11.57s/it]\u001b[A\n",
            "Validate (990 / 6800 Steps):  80%|████████  | 8/10 [01:38<00:25, 12.76s/it]\u001b[A\n",
            "Validate (990 / 6800 Steps):  80%|████████  | 8/10 [01:48<00:25, 12.76s/it]\u001b[A\n",
            "Validate (990 / 6800 Steps):  90%|█████████ | 9/10 [01:48<00:11, 11.96s/it]\u001b[A\n",
            "Validate (990 / 6800 Steps):  90%|█████████ | 9/10 [02:04<00:11, 11.96s/it]\u001b[A\n",
            "Validate (990 / 6800 Steps): 100%|██████████| 10/10 [02:04<00:00, 12.41s/it]\n",
            "Training (1000 / 6800 Steps) (loss=0.05703):  12%|█▏        | 11/90 [02:11<50:54, 38.66s/it]"
          ]
        },
        {
          "metadata": {
            "tags": null
          },
          "name": "stdout",
          "output_type": "stream",
          "text": [
            "Model Was Not Saved ! Current Best Avg. Dice: 0.8421430587768555 Current Avg. Dice: 0.8376145362854004\n"
          ]
        },
        {
          "metadata": {
            "tags": null
          },
          "name": "stderr",
          "output_type": "stream",
          "text": [
            "Training (1079 / 6800 Steps) (loss=0.04280): 100%|██████████| 90/90 [03:05<00:00,  2.06s/it]\n",
            "Training (1169 / 6800 Steps) (loss=0.03125): 100%|██████████| 90/90 [01:01<00:00,  1.47it/s]\n",
            "Training (1200 / 6800 Steps) (loss=0.04970):  33%|███▎      | 30/90 [00:21<00:40,  1.48it/s]\n",
            "Validate (X / X Steps) (dice=X.X):   0%|          | 0/10 [00:00<?, ?it/s]\u001b[A\n",
            "Validate (1170 / 6800 Steps):   0%|          | 0/10 [00:06<?, ?it/s]     \u001b[A\n",
            "Validate (1170 / 6800 Steps):  10%|█         | 1/10 [00:06<01:01,  6.82s/it]\u001b[A\n",
            "Validate (1170 / 6800 Steps):  10%|█         | 1/10 [00:22<01:01,  6.82s/it]\u001b[A\n",
            "Validate (1170 / 6800 Steps):  20%|██        | 2/10 [00:22<01:34, 11.82s/it]\u001b[A\n",
            "Validate (1170 / 6800 Steps):  20%|██        | 2/10 [00:37<01:34, 11.82s/it]\u001b[A\n",
            "Validate (1170 / 6800 Steps):  30%|███       | 3/10 [00:37<01:33, 13.42s/it]\u001b[A\n",
            "Validate (1170 / 6800 Steps):  30%|███       | 3/10 [00:47<01:33, 13.42s/it]\u001b[A\n",
            "Validate (1170 / 6800 Steps):  40%|████      | 4/10 [00:47<01:12, 12.16s/it]\u001b[A\n",
            "Validate (1170 / 6800 Steps):  40%|████      | 4/10 [01:03<01:12, 12.16s/it]\u001b[A\n",
            "Validate (1170 / 6800 Steps):  50%|█████     | 5/10 [01:03<01:06, 13.30s/it]\u001b[A\n",
            "Validate (1170 / 6800 Steps):  50%|█████     | 5/10 [01:13<01:06, 13.30s/it]\u001b[A\n",
            "Validate (1170 / 6800 Steps):  60%|██████    | 6/10 [01:13<00:48, 12.25s/it]\u001b[A\n",
            "Validate (1170 / 6800 Steps):  60%|██████    | 6/10 [01:23<00:48, 12.25s/it]\u001b[A\n",
            "Validate (1170 / 6800 Steps):  70%|███████   | 7/10 [01:23<00:34, 11.57s/it]\u001b[A\n",
            "Validate (1170 / 6800 Steps):  70%|███████   | 7/10 [01:38<00:34, 11.57s/it]\u001b[A\n",
            "Validate (1170 / 6800 Steps):  80%|████████  | 8/10 [01:38<00:25, 12.74s/it]\u001b[A\n",
            "Validate (1170 / 6800 Steps):  80%|████████  | 8/10 [01:48<00:25, 12.74s/it]\u001b[A\n",
            "Validate (1170 / 6800 Steps):  90%|█████████ | 9/10 [01:48<00:11, 11.93s/it]\u001b[A\n",
            "Validate (1170 / 6800 Steps):  90%|█████████ | 9/10 [02:04<00:11, 11.93s/it]\u001b[A\n",
            "Validate (1170 / 6800 Steps): 100%|██████████| 10/10 [02:04<00:00, 12.40s/it]\n",
            "Training (1200 / 6800 Steps) (loss=0.04970):  34%|███▍      | 31/90 [02:25<37:15, 37.90s/it]"
          ]
        },
        {
          "metadata": {
            "tags": null
          },
          "name": "stdout",
          "output_type": "stream",
          "text": [
            "Model Was Not Saved ! Current Best Avg. Dice: 0.8421430587768555 Current Avg. Dice: 0.8382867574691772\n"
          ]
        },
        {
          "metadata": {
            "tags": null
          },
          "name": "stderr",
          "output_type": "stream",
          "text": [
            "Training (1259 / 6800 Steps) (loss=0.05031): 100%|██████████| 90/90 [03:05<00:00,  2.06s/it]\n",
            "Training (1349 / 6800 Steps) (loss=0.03609): 100%|██████████| 90/90 [01:01<00:00,  1.47it/s]\n",
            "Training (1400 / 6800 Steps) (loss=0.04927):  56%|█████▌    | 50/90 [00:34<00:27,  1.47it/s]\n",
            "Validate (X / X Steps) (dice=X.X):   0%|          | 0/10 [00:00<?, ?it/s]\u001b[A\n",
            "Validate (1350 / 6800 Steps):   0%|          | 0/10 [00:06<?, ?it/s]     \u001b[A\n",
            "Validate (1350 / 6800 Steps):  10%|█         | 1/10 [00:06<01:01,  6.85s/it]\u001b[A\n",
            "Validate (1350 / 6800 Steps):  10%|█         | 1/10 [00:22<01:01,  6.85s/it]\u001b[A\n",
            "Validate (1350 / 6800 Steps):  20%|██        | 2/10 [00:22<01:34, 11.83s/it]\u001b[A\n",
            "Validate (1350 / 6800 Steps):  20%|██        | 2/10 [00:37<01:34, 11.83s/it]\u001b[A\n",
            "Validate (1350 / 6800 Steps):  30%|███       | 3/10 [00:37<01:33, 13.42s/it]\u001b[A\n",
            "Validate (1350 / 6800 Steps):  30%|███       | 3/10 [00:47<01:33, 13.42s/it]\u001b[A\n",
            "Validate (1350 / 6800 Steps):  40%|████      | 4/10 [00:47<01:12, 12.16s/it]\u001b[A\n",
            "Validate (1350 / 6800 Steps):  40%|████      | 4/10 [01:03<01:12, 12.16s/it]\u001b[A\n",
            "Validate (1350 / 6800 Steps):  50%|█████     | 5/10 [01:03<01:06, 13.29s/it]\u001b[A\n",
            "Validate (1350 / 6800 Steps):  50%|█████     | 5/10 [01:13<01:06, 13.29s/it]\u001b[A\n",
            "Validate (1350 / 6800 Steps):  60%|██████    | 6/10 [01:13<00:48, 12.24s/it]\u001b[A\n",
            "Validate (1350 / 6800 Steps):  60%|██████    | 6/10 [01:23<00:48, 12.24s/it]\u001b[A\n",
            "Validate (1350 / 6800 Steps):  70%|███████   | 7/10 [01:23<00:34, 11.58s/it]\u001b[A\n",
            "Validate (1350 / 6800 Steps):  70%|███████   | 7/10 [01:38<00:34, 11.58s/it]\u001b[A\n",
            "Validate (1350 / 6800 Steps):  80%|████████  | 8/10 [01:38<00:25, 12.76s/it]\u001b[A\n",
            "Validate (1350 / 6800 Steps):  80%|████████  | 8/10 [01:48<00:25, 12.76s/it]\u001b[A\n",
            "Validate (1350 / 6800 Steps):  90%|█████████ | 9/10 [01:48<00:11, 11.96s/it]\u001b[A\n",
            "Validate (1350 / 6800 Steps):  90%|█████████ | 9/10 [02:04<00:11, 11.96s/it]\u001b[A\n",
            "Validate (1350 / 6800 Steps): 100%|██████████| 10/10 [02:04<00:00, 12.42s/it]\n",
            "Training (1400 / 6800 Steps) (loss=0.04927):  57%|█████▋    | 51/90 [02:39<24:40, 37.95s/it]"
          ]
        },
        {
          "metadata": {
            "tags": null
          },
          "name": "stdout",
          "output_type": "stream",
          "text": [
            "Model Was Not Saved ! Current Best Avg. Dice: 0.8421430587768555 Current Avg. Dice: 0.8395580053329468\n"
          ]
        },
        {
          "metadata": {
            "tags": null
          },
          "name": "stderr",
          "output_type": "stream",
          "text": [
            "Training (1439 / 6800 Steps) (loss=0.03747): 100%|██████████| 90/90 [03:05<00:00,  2.06s/it]\n",
            "Training (1529 / 6800 Steps) (loss=0.05152): 100%|██████████| 90/90 [01:01<00:00,  1.47it/s]\n",
            "Training (1600 / 6800 Steps) (loss=0.04993):  78%|███████▊  | 70/90 [00:48<00:13,  1.48it/s]\n",
            "Validate (X / X Steps) (dice=X.X):   0%|          | 0/10 [00:00<?, ?it/s]\u001b[A\n",
            "Validate (1530 / 6800 Steps):   0%|          | 0/10 [00:06<?, ?it/s]     \u001b[A\n",
            "Validate (1530 / 6800 Steps):  10%|█         | 1/10 [00:06<01:01,  6.80s/it]\u001b[A\n",
            "Validate (1530 / 6800 Steps):  10%|█         | 1/10 [00:22<01:01,  6.80s/it]\u001b[A\n",
            "Validate (1530 / 6800 Steps):  20%|██        | 2/10 [00:22<01:34, 11.76s/it]\u001b[A\n",
            "Validate (1530 / 6800 Steps):  20%|██        | 2/10 [00:37<01:34, 11.76s/it]\u001b[A\n",
            "Validate (1530 / 6800 Steps):  30%|███       | 3/10 [00:37<01:33, 13.35s/it]\u001b[A\n",
            "Validate (1530 / 6800 Steps):  30%|███       | 3/10 [00:47<01:33, 13.35s/it]\u001b[A\n",
            "Validate (1530 / 6800 Steps):  40%|████      | 4/10 [00:47<01:12, 12.09s/it]\u001b[A\n",
            "Validate (1530 / 6800 Steps):  40%|████      | 4/10 [01:02<01:12, 12.09s/it]\u001b[A\n",
            "Validate (1530 / 6800 Steps):  50%|█████     | 5/10 [01:02<01:06, 13.21s/it]\u001b[A\n",
            "Validate (1530 / 6800 Steps):  50%|█████     | 5/10 [01:12<01:06, 13.21s/it]\u001b[A\n",
            "Validate (1530 / 6800 Steps):  60%|██████    | 6/10 [01:12<00:48, 12.17s/it]\u001b[A\n",
            "Validate (1530 / 6800 Steps):  60%|██████    | 6/10 [01:22<00:48, 12.17s/it]\u001b[A\n",
            "Validate (1530 / 6800 Steps):  70%|███████   | 7/10 [01:22<00:34, 11.50s/it]\u001b[A\n",
            "Validate (1530 / 6800 Steps):  70%|███████   | 7/10 [01:38<00:34, 11.50s/it]\u001b[A\n",
            "Validate (1530 / 6800 Steps):  80%|████████  | 8/10 [01:38<00:25, 12.67s/it]\u001b[A\n",
            "Validate (1530 / 6800 Steps):  80%|████████  | 8/10 [01:48<00:25, 12.67s/it]\u001b[A\n",
            "Validate (1530 / 6800 Steps):  90%|█████████ | 9/10 [01:48<00:11, 11.87s/it]\u001b[A\n",
            "Validate (1530 / 6800 Steps):  90%|█████████ | 9/10 [02:03<00:11, 11.87s/it]\u001b[A\n",
            "Validate (1530 / 6800 Steps): 100%|██████████| 10/10 [02:03<00:00, 12.34s/it]\n",
            "Training (1600 / 6800 Steps) (loss=0.04993):  79%|███████▉  | 71/90 [02:52<12:00, 37.92s/it]"
          ]
        },
        {
          "metadata": {
            "tags": null
          },
          "name": "stdout",
          "output_type": "stream",
          "text": [
            "Model Was Saved ! Current Best Avg. Dice: 0.8421638607978821 Current Avg. Dice: 0.8421638607978821\n"
          ]
        },
        {
          "metadata": {
            "tags": null
          },
          "name": "stderr",
          "output_type": "stream",
          "text": [
            "Training (1619 / 6800 Steps) (loss=0.05436): 100%|██████████| 90/90 [03:05<00:00,  2.06s/it]\n",
            "Training (1709 / 6800 Steps) (loss=0.02524): 100%|██████████| 90/90 [01:01<00:00,  1.47it/s]\n",
            "Training (1799 / 6800 Steps) (loss=0.05275): 100%|██████████| 90/90 [01:01<00:00,  1.47it/s]\n",
            "Training (1800 / 6800 Steps) (loss=0.05501):   0%|          | 0/90 [00:00<?, ?it/s]\n",
            "Validate (X / X Steps) (dice=X.X):   0%|          | 0/10 [00:00<?, ?it/s]\u001b[A\n",
            "Validate (1800 / 6800 Steps):   0%|          | 0/10 [00:06<?, ?it/s]     \u001b[A\n",
            "Validate (1800 / 6800 Steps):  10%|█         | 1/10 [00:06<01:01,  6.83s/it]\u001b[A\n",
            "Validate (1800 / 6800 Steps):  10%|█         | 1/10 [00:22<01:01,  6.83s/it]\u001b[A\n",
            "Validate (1800 / 6800 Steps):  20%|██        | 2/10 [00:22<01:34, 11.82s/it]\u001b[A\n",
            "Validate (1800 / 6800 Steps):  20%|██        | 2/10 [00:37<01:34, 11.82s/it]\u001b[A\n",
            "Validate (1800 / 6800 Steps):  30%|███       | 3/10 [00:37<01:34, 13.43s/it]\u001b[A\n",
            "Validate (1800 / 6800 Steps):  30%|███       | 3/10 [00:47<01:34, 13.43s/it]\u001b[A\n",
            "Validate (1800 / 6800 Steps):  40%|████      | 4/10 [00:47<01:13, 12.17s/it]\u001b[A\n",
            "Validate (1800 / 6800 Steps):  40%|████      | 4/10 [01:03<01:13, 12.17s/it]\u001b[A\n",
            "Validate (1800 / 6800 Steps):  50%|█████     | 5/10 [01:03<01:06, 13.30s/it]\u001b[A\n",
            "Validate (1800 / 6800 Steps):  50%|█████     | 5/10 [01:13<01:06, 13.30s/it]\u001b[A\n",
            "Validate (1800 / 6800 Steps):  60%|██████    | 6/10 [01:13<00:49, 12.25s/it]\u001b[A\n",
            "Validate (1800 / 6800 Steps):  60%|██████    | 6/10 [01:23<00:49, 12.25s/it]\u001b[A\n",
            "Validate (1800 / 6800 Steps):  70%|███████   | 7/10 [01:23<00:34, 11.58s/it]\u001b[A\n",
            "Validate (1800 / 6800 Steps):  70%|███████   | 7/10 [01:38<00:34, 11.58s/it]\u001b[A\n",
            "Validate (1800 / 6800 Steps):  80%|████████  | 8/10 [01:38<00:25, 12.76s/it]\u001b[A\n",
            "Validate (1800 / 6800 Steps):  80%|████████  | 8/10 [01:48<00:25, 12.76s/it]\u001b[A\n",
            "Validate (1800 / 6800 Steps):  90%|█████████ | 9/10 [01:48<00:11, 11.97s/it]\u001b[A\n",
            "Validate (1800 / 6800 Steps):  90%|█████████ | 9/10 [02:04<00:11, 11.97s/it]\u001b[A\n",
            "Validate (1800 / 6800 Steps): 100%|██████████| 10/10 [02:04<00:00, 12.43s/it]\n",
            "Training (1800 / 6800 Steps) (loss=0.05501):   1%|          | 1/90 [02:05<3:05:32, 125.08s/it]"
          ]
        },
        {
          "metadata": {
            "tags": null
          },
          "name": "stdout",
          "output_type": "stream",
          "text": [
            "Model Was Not Saved ! Current Best Avg. Dice: 0.8421638607978821 Current Avg. Dice: 0.8344442248344421\n"
          ]
        },
        {
          "metadata": {
            "tags": null
          },
          "name": "stderr",
          "output_type": "stream",
          "text": [
            "Training (1889 / 6800 Steps) (loss=0.03879): 100%|██████████| 90/90 [03:05<00:00,  2.06s/it]\n",
            "Training (1979 / 6800 Steps) (loss=0.05227): 100%|██████████| 90/90 [01:01<00:00,  1.47it/s]\n",
            "Training (2000 / 6800 Steps) (loss=0.04520):  22%|██▏       | 20/90 [00:14<00:47,  1.47it/s]\n",
            "Validate (X / X Steps) (dice=X.X):   0%|          | 0/10 [00:00<?, ?it/s]\u001b[A\n",
            "Validate (1980 / 6800 Steps):   0%|          | 0/10 [00:06<?, ?it/s]     \u001b[A\n",
            "Validate (1980 / 6800 Steps):  10%|█         | 1/10 [00:06<01:01,  6.84s/it]\u001b[A\n",
            "Validate (1980 / 6800 Steps):  10%|█         | 1/10 [00:22<01:01,  6.84s/it]\u001b[A\n",
            "Validate (1980 / 6800 Steps):  20%|██        | 2/10 [00:22<01:34, 11.84s/it]\u001b[A\n",
            "Validate (1980 / 6800 Steps):  20%|██        | 2/10 [00:37<01:34, 11.84s/it]\u001b[A\n",
            "Validate (1980 / 6800 Steps):  30%|███       | 3/10 [00:37<01:33, 13.43s/it]\u001b[A\n",
            "Validate (1980 / 6800 Steps):  30%|███       | 3/10 [00:47<01:33, 13.43s/it]\u001b[A\n",
            "Validate (1980 / 6800 Steps):  40%|████      | 4/10 [00:47<01:12, 12.17s/it]\u001b[A\n",
            "Validate (1980 / 6800 Steps):  40%|████      | 4/10 [01:02<01:12, 12.17s/it]\u001b[A\n",
            "Validate (1980 / 6800 Steps):  50%|█████     | 5/10 [01:03<01:06, 13.29s/it]\u001b[A\n",
            "Validate (1980 / 6800 Steps):  50%|█████     | 5/10 [01:13<01:06, 13.29s/it]\u001b[A\n",
            "Validate (1980 / 6800 Steps):  60%|██████    | 6/10 [01:13<00:48, 12.23s/it]\u001b[A\n",
            "Validate (1980 / 6800 Steps):  60%|██████    | 6/10 [01:23<00:48, 12.23s/it]\u001b[A\n",
            "Validate (1980 / 6800 Steps):  70%|███████   | 7/10 [01:23<00:34, 11.56s/it]\u001b[A\n",
            "Validate (1980 / 6800 Steps):  70%|███████   | 7/10 [01:38<00:34, 11.56s/it]\u001b[A\n",
            "Validate (1980 / 6800 Steps):  80%|████████  | 8/10 [01:38<00:25, 12.75s/it]\u001b[A\n",
            "Validate (1980 / 6800 Steps):  80%|████████  | 8/10 [01:48<00:25, 12.75s/it]\u001b[A\n",
            "Validate (1980 / 6800 Steps):  90%|█████████ | 9/10 [01:48<00:11, 11.94s/it]\u001b[A\n",
            "Validate (1980 / 6800 Steps):  90%|█████████ | 9/10 [02:04<00:11, 11.94s/it]\u001b[A\n",
            "Validate (1980 / 6800 Steps): 100%|██████████| 10/10 [02:04<00:00, 12.41s/it]\n",
            "Training (2000 / 6800 Steps) (loss=0.04520):  23%|██▎       | 21/90 [02:18<43:38, 37.95s/it]"
          ]
        },
        {
          "metadata": {
            "tags": null
          },
          "name": "stdout",
          "output_type": "stream",
          "text": [
            "Model Was Not Saved ! Current Best Avg. Dice: 0.8421638607978821 Current Avg. Dice: 0.8406794667243958\n"
          ]
        },
        {
          "metadata": {
            "tags": null
          },
          "name": "stderr",
          "output_type": "stream",
          "text": [
            "Training (2069 / 6800 Steps) (loss=0.03403): 100%|██████████| 90/90 [03:05<00:00,  2.06s/it]\n",
            "Training (2159 / 6800 Steps) (loss=0.03451): 100%|██████████| 90/90 [01:01<00:00,  1.46it/s]\n",
            "Training (2200 / 6800 Steps) (loss=0.08141):  44%|████▍     | 40/90 [00:28<00:34,  1.46it/s]\n",
            "Validate (X / X Steps) (dice=X.X):   0%|          | 0/10 [00:00<?, ?it/s]\u001b[A\n",
            "Validate (2160 / 6800 Steps):   0%|          | 0/10 [00:06<?, ?it/s]     \u001b[A\n",
            "Validate (2160 / 6800 Steps):  10%|█         | 1/10 [00:06<01:01,  6.84s/it]\u001b[A\n",
            "Validate (2160 / 6800 Steps):  10%|█         | 1/10 [00:22<01:01,  6.84s/it]\u001b[A\n",
            "Validate (2160 / 6800 Steps):  20%|██        | 2/10 [00:22<01:34, 11.82s/it]\u001b[A\n",
            "Validate (2160 / 6800 Steps):  20%|██        | 2/10 [00:37<01:34, 11.82s/it]\u001b[A\n",
            "Validate (2160 / 6800 Steps):  30%|███       | 3/10 [00:37<01:33, 13.42s/it]\u001b[A\n",
            "Validate (2160 / 6800 Steps):  30%|███       | 3/10 [00:47<01:33, 13.42s/it]\u001b[A\n",
            "Validate (2160 / 6800 Steps):  40%|████      | 4/10 [00:47<01:12, 12.15s/it]\u001b[A\n",
            "Validate (2160 / 6800 Steps):  40%|████      | 4/10 [01:02<01:12, 12.15s/it]\u001b[A\n",
            "Validate (2160 / 6800 Steps):  50%|█████     | 5/10 [01:02<01:06, 13.26s/it]\u001b[A\n",
            "Validate (2160 / 6800 Steps):  50%|█████     | 5/10 [01:13<01:06, 13.26s/it]\u001b[A\n",
            "Validate (2160 / 6800 Steps):  60%|██████    | 6/10 [01:13<00:48, 12.21s/it]\u001b[A\n",
            "Validate (2160 / 6800 Steps):  60%|██████    | 6/10 [01:23<00:48, 12.21s/it]\u001b[A\n",
            "Validate (2160 / 6800 Steps):  70%|███████   | 7/10 [01:23<00:34, 11.55s/it]\u001b[A\n",
            "Validate (2160 / 6800 Steps):  70%|███████   | 7/10 [01:38<00:34, 11.55s/it]\u001b[A\n",
            "Validate (2160 / 6800 Steps):  80%|████████  | 8/10 [01:38<00:25, 12.72s/it]\u001b[A\n",
            "Validate (2160 / 6800 Steps):  80%|████████  | 8/10 [01:48<00:25, 12.72s/it]\u001b[A\n",
            "Validate (2160 / 6800 Steps):  90%|█████████ | 9/10 [01:48<00:11, 11.93s/it]\u001b[A\n",
            "Validate (2160 / 6800 Steps):  90%|█████████ | 9/10 [02:03<00:11, 11.93s/it]\u001b[A\n",
            "Validate (2160 / 6800 Steps): 100%|██████████| 10/10 [02:03<00:00, 12.39s/it]\n",
            "Training (2200 / 6800 Steps) (loss=0.08141):  46%|████▌     | 41/90 [02:32<30:55, 37.86s/it]"
          ]
        },
        {
          "metadata": {
            "tags": null
          },
          "name": "stdout",
          "output_type": "stream",
          "text": [
            "Model Was Not Saved ! Current Best Avg. Dice: 0.8421638607978821 Current Avg. Dice: 0.8417086601257324\n"
          ]
        },
        {
          "metadata": {
            "tags": null
          },
          "name": "stderr",
          "output_type": "stream",
          "text": [
            "Training (2249 / 6800 Steps) (loss=0.02087): 100%|██████████| 90/90 [03:05<00:00,  2.06s/it]\n",
            "Training (2339 / 6800 Steps) (loss=0.07269): 100%|██████████| 90/90 [01:01<00:00,  1.47it/s]\n",
            "Training (2400 / 6800 Steps) (loss=0.05485):  67%|██████▋   | 60/90 [00:41<00:20,  1.48it/s]\n",
            "Validate (X / X Steps) (dice=X.X):   0%|          | 0/10 [00:00<?, ?it/s]\u001b[A\n",
            "Validate (2340 / 6800 Steps):   0%|          | 0/10 [00:06<?, ?it/s]     \u001b[A\n",
            "Validate (2340 / 6800 Steps):  10%|█         | 1/10 [00:06<01:01,  6.81s/it]\u001b[A\n",
            "Validate (2340 / 6800 Steps):  10%|█         | 1/10 [00:22<01:01,  6.81s/it]\u001b[A\n",
            "Validate (2340 / 6800 Steps):  20%|██        | 2/10 [00:22<01:34, 11.82s/it]\u001b[A\n",
            "Validate (2340 / 6800 Steps):  20%|██        | 2/10 [00:37<01:34, 11.82s/it]\u001b[A\n",
            "Validate (2340 / 6800 Steps):  30%|███       | 3/10 [00:37<01:33, 13.42s/it]\u001b[A\n",
            "Validate (2340 / 6800 Steps):  30%|███       | 3/10 [00:47<01:33, 13.42s/it]\u001b[A\n",
            "Validate (2340 / 6800 Steps):  40%|████      | 4/10 [00:47<01:12, 12.16s/it]\u001b[A\n",
            "Validate (2340 / 6800 Steps):  40%|████      | 4/10 [01:02<01:12, 12.16s/it]\u001b[A\n",
            "Validate (2340 / 6800 Steps):  50%|█████     | 5/10 [01:03<01:06, 13.30s/it]\u001b[A\n",
            "Validate (2340 / 6800 Steps):  50%|█████     | 5/10 [01:13<01:06, 13.30s/it]\u001b[A\n",
            "Validate (2340 / 6800 Steps):  60%|██████    | 6/10 [01:13<00:49, 12.25s/it]\u001b[A\n",
            "Validate (2340 / 6800 Steps):  60%|██████    | 6/10 [01:23<00:49, 12.25s/it]\u001b[A\n",
            "Validate (2340 / 6800 Steps):  70%|███████   | 7/10 [01:23<00:34, 11.58s/it]\u001b[A\n",
            "Validate (2340 / 6800 Steps):  70%|███████   | 7/10 [01:38<00:34, 11.58s/it]\u001b[A\n",
            "Validate (2340 / 6800 Steps):  80%|████████  | 8/10 [01:38<00:25, 12.77s/it]\u001b[A\n",
            "Validate (2340 / 6800 Steps):  80%|████████  | 8/10 [01:48<00:25, 12.77s/it]\u001b[A\n",
            "Validate (2340 / 6800 Steps):  90%|█████████ | 9/10 [01:48<00:11, 11.97s/it]\u001b[A\n",
            "Validate (2340 / 6800 Steps):  90%|█████████ | 9/10 [02:04<00:11, 11.97s/it]\u001b[A\n",
            "Validate (2340 / 6800 Steps): 100%|██████████| 10/10 [02:04<00:00, 12.42s/it]\n",
            "Training (2400 / 6800 Steps) (loss=0.05485):  68%|██████▊   | 61/90 [02:45<18:20, 37.96s/it]"
          ]
        },
        {
          "metadata": {
            "tags": null
          },
          "name": "stdout",
          "output_type": "stream",
          "text": [
            "Model Was Not Saved ! Current Best Avg. Dice: 0.8421638607978821 Current Avg. Dice: 0.8373385667800903\n"
          ]
        },
        {
          "metadata": {
            "tags": null
          },
          "name": "stderr",
          "output_type": "stream",
          "text": [
            "Training (2429 / 6800 Steps) (loss=0.04087): 100%|██████████| 90/90 [03:05<00:00,  2.06s/it]\n",
            "Training (2519 / 6800 Steps) (loss=0.03350): 100%|██████████| 90/90 [01:01<00:00,  1.47it/s]\n",
            "Training (2600 / 6800 Steps) (loss=0.03736):  89%|████████▉ | 80/90 [00:55<00:06,  1.46it/s]\n",
            "Validate (X / X Steps) (dice=X.X):   0%|          | 0/10 [00:00<?, ?it/s]\u001b[A\n",
            "Validate (2520 / 6800 Steps):   0%|          | 0/10 [00:06<?, ?it/s]     \u001b[A\n",
            "Validate (2520 / 6800 Steps):  10%|█         | 1/10 [00:06<01:01,  6.84s/it]\u001b[A\n",
            "Validate (2520 / 6800 Steps):  10%|█         | 1/10 [00:22<01:01,  6.84s/it]\u001b[A\n",
            "Validate (2520 / 6800 Steps):  20%|██        | 2/10 [00:22<01:34, 11.83s/it]\u001b[A\n",
            "Validate (2520 / 6800 Steps):  20%|██        | 2/10 [00:37<01:34, 11.83s/it]\u001b[A\n",
            "Validate (2520 / 6800 Steps):  30%|███       | 3/10 [00:37<01:33, 13.40s/it]\u001b[A\n",
            "Validate (2520 / 6800 Steps):  30%|███       | 3/10 [00:47<01:33, 13.40s/it]\u001b[A\n",
            "Validate (2520 / 6800 Steps):  40%|████      | 4/10 [00:47<01:12, 12.12s/it]\u001b[A\n",
            "Validate (2520 / 6800 Steps):  40%|████      | 4/10 [01:02<01:12, 12.12s/it]\u001b[A\n",
            "Validate (2520 / 6800 Steps):  50%|█████     | 5/10 [01:02<01:06, 13.23s/it]\u001b[A\n",
            "Validate (2520 / 6800 Steps):  50%|█████     | 5/10 [01:12<01:06, 13.23s/it]\u001b[A\n",
            "Validate (2520 / 6800 Steps):  60%|██████    | 6/10 [01:12<00:48, 12.18s/it]\u001b[A\n",
            "Validate (2520 / 6800 Steps):  60%|██████    | 6/10 [01:23<00:48, 12.18s/it]\u001b[A\n",
            "Validate (2520 / 6800 Steps):  70%|███████   | 7/10 [01:23<00:34, 11.53s/it]\u001b[A\n",
            "Validate (2520 / 6800 Steps):  70%|███████   | 7/10 [01:38<00:34, 11.53s/it]\u001b[A\n",
            "Validate (2520 / 6800 Steps):  80%|████████  | 8/10 [01:38<00:25, 12.75s/it]\u001b[A\n",
            "Validate (2520 / 6800 Steps):  80%|████████  | 8/10 [01:48<00:25, 12.75s/it]\u001b[A\n",
            "Validate (2520 / 6800 Steps):  90%|█████████ | 9/10 [01:48<00:11, 11.95s/it]\u001b[A\n",
            "Validate (2520 / 6800 Steps):  90%|█████████ | 9/10 [02:03<00:11, 11.95s/it]\u001b[A\n",
            "Validate (2520 / 6800 Steps): 100%|██████████| 10/10 [02:03<00:00, 12.40s/it]\n",
            "Training (2600 / 6800 Steps) (loss=0.03736):  90%|█████████ | 81/90 [02:59<05:41, 37.89s/it]"
          ]
        },
        {
          "metadata": {
            "tags": null
          },
          "name": "stdout",
          "output_type": "stream",
          "text": [
            "Model Was Not Saved ! Current Best Avg. Dice: 0.8421638607978821 Current Avg. Dice: 0.8375743627548218\n"
          ]
        },
        {
          "metadata": {
            "tags": null
          },
          "name": "stderr",
          "output_type": "stream",
          "text": [
            "Training (2609 / 6800 Steps) (loss=0.02297): 100%|██████████| 90/90 [03:05<00:00,  2.06s/it]\n",
            "Training (2699 / 6800 Steps) (loss=0.03573): 100%|██████████| 90/90 [01:01<00:00,  1.47it/s]\n",
            "Training (2789 / 6800 Steps) (loss=0.06239): 100%|██████████| 90/90 [01:01<00:00,  1.47it/s]\n",
            "Training (2800 / 6800 Steps) (loss=0.06711):  11%|█         | 10/90 [00:07<00:54,  1.47it/s]\n",
            "Validate (X / X Steps) (dice=X.X):   0%|          | 0/10 [00:00<?, ?it/s]\u001b[A\n",
            "Validate (2790 / 6800 Steps):   0%|          | 0/10 [00:06<?, ?it/s]     \u001b[A\n",
            "Validate (2790 / 6800 Steps):  10%|█         | 1/10 [00:06<01:01,  6.83s/it]\u001b[A\n",
            "Validate (2790 / 6800 Steps):  10%|█         | 1/10 [00:22<01:01,  6.83s/it]\u001b[A\n",
            "Validate (2790 / 6800 Steps):  20%|██        | 2/10 [00:22<01:34, 11.78s/it]\u001b[A\n",
            "Validate (2790 / 6800 Steps):  20%|██        | 2/10 [00:37<01:34, 11.78s/it]\u001b[A\n",
            "Validate (2790 / 6800 Steps):  30%|███       | 3/10 [00:37<01:33, 13.38s/it]\u001b[A\n",
            "Validate (2790 / 6800 Steps):  30%|███       | 3/10 [00:47<01:33, 13.38s/it]\u001b[A\n",
            "Validate (2790 / 6800 Steps):  40%|████      | 4/10 [00:47<01:12, 12.13s/it]\u001b[A\n",
            "Validate (2790 / 6800 Steps):  40%|████      | 4/10 [01:02<01:12, 12.13s/it]\u001b[A\n",
            "Validate (2790 / 6800 Steps):  50%|█████     | 5/10 [01:02<01:06, 13.25s/it]\u001b[A\n",
            "Validate (2790 / 6800 Steps):  50%|█████     | 5/10 [01:12<01:06, 13.25s/it]\u001b[A\n",
            "Validate (2790 / 6800 Steps):  60%|██████    | 6/10 [01:12<00:48, 12.20s/it]\u001b[A\n",
            "Validate (2790 / 6800 Steps):  60%|██████    | 6/10 [01:23<00:48, 12.20s/it]\u001b[A\n",
            "Validate (2790 / 6800 Steps):  70%|███████   | 7/10 [01:23<00:34, 11.54s/it]\u001b[A\n",
            "Validate (2790 / 6800 Steps):  70%|███████   | 7/10 [01:38<00:34, 11.54s/it]\u001b[A\n",
            "Validate (2790 / 6800 Steps):  80%|████████  | 8/10 [01:38<00:25, 12.73s/it]\u001b[A\n",
            "Validate (2790 / 6800 Steps):  80%|████████  | 8/10 [01:48<00:25, 12.73s/it]\u001b[A\n",
            "Validate (2790 / 6800 Steps):  90%|█████████ | 9/10 [01:48<00:11, 11.95s/it]\u001b[A\n",
            "Validate (2790 / 6800 Steps):  90%|█████████ | 9/10 [02:03<00:11, 11.95s/it]\u001b[A\n",
            "Validate (2790 / 6800 Steps): 100%|██████████| 10/10 [02:03<00:00, 12.40s/it]\n",
            "Training (2800 / 6800 Steps) (loss=0.06711):  12%|█▏        | 11/90 [02:11<50:51, 38.62s/it]"
          ]
        },
        {
          "metadata": {
            "tags": null
          },
          "name": "stdout",
          "output_type": "stream",
          "text": [
            "Model Was Not Saved ! Current Best Avg. Dice: 0.8421638607978821 Current Avg. Dice: 0.838269829750061\n"
          ]
        },
        {
          "metadata": {
            "tags": null
          },
          "name": "stderr",
          "output_type": "stream",
          "text": [
            "Training (2879 / 6800 Steps) (loss=0.03922): 100%|██████████| 90/90 [03:05<00:00,  2.06s/it]\n",
            "Training (2969 / 6800 Steps) (loss=0.04840): 100%|██████████| 90/90 [01:01<00:00,  1.47it/s]\n",
            "Training (3000 / 6800 Steps) (loss=0.02983):  33%|███▎      | 30/90 [00:21<00:40,  1.48it/s]\n",
            "Validate (X / X Steps) (dice=X.X):   0%|          | 0/10 [00:00<?, ?it/s]\u001b[A\n",
            "Validate (2970 / 6800 Steps):   0%|          | 0/10 [00:06<?, ?it/s]     \u001b[A\n",
            "Validate (2970 / 6800 Steps):  10%|█         | 1/10 [00:06<01:01,  6.85s/it]\u001b[A\n",
            "Validate (2970 / 6800 Steps):  10%|█         | 1/10 [00:22<01:01,  6.85s/it]\u001b[A\n",
            "Validate (2970 / 6800 Steps):  20%|██        | 2/10 [00:22<01:34, 11.83s/it]\u001b[A\n",
            "Validate (2970 / 6800 Steps):  20%|██        | 2/10 [00:37<01:34, 11.83s/it]\u001b[A\n",
            "Validate (2970 / 6800 Steps):  30%|███       | 3/10 [00:37<01:33, 13.40s/it]\u001b[A\n",
            "Validate (2970 / 6800 Steps):  30%|███       | 3/10 [00:47<01:33, 13.40s/it]\u001b[A\n",
            "Validate (2970 / 6800 Steps):  40%|████      | 4/10 [00:47<01:12, 12.14s/it]\u001b[A\n",
            "Validate (2970 / 6800 Steps):  40%|████      | 4/10 [01:02<01:12, 12.14s/it]\u001b[A\n",
            "Validate (2970 / 6800 Steps):  50%|█████     | 5/10 [01:02<01:06, 13.28s/it]\u001b[A\n",
            "Validate (2970 / 6800 Steps):  50%|█████     | 5/10 [01:13<01:06, 13.28s/it]\u001b[A\n",
            "Validate (2970 / 6800 Steps):  60%|██████    | 6/10 [01:13<00:48, 12.24s/it]\u001b[A\n",
            "Validate (2970 / 6800 Steps):  60%|██████    | 6/10 [01:23<00:48, 12.24s/it]\u001b[A\n",
            "Validate (2970 / 6800 Steps):  70%|███████   | 7/10 [01:23<00:34, 11.58s/it]\u001b[A\n",
            "Validate (2970 / 6800 Steps):  70%|███████   | 7/10 [01:38<00:34, 11.58s/it]\u001b[A\n",
            "Validate (2970 / 6800 Steps):  80%|████████  | 8/10 [01:38<00:25, 12.77s/it]\u001b[A\n",
            "Validate (2970 / 6800 Steps):  80%|████████  | 8/10 [01:48<00:25, 12.77s/it]\u001b[A\n",
            "Validate (2970 / 6800 Steps):  90%|█████████ | 9/10 [01:48<00:11, 11.97s/it]\u001b[A\n",
            "Validate (2970 / 6800 Steps):  90%|█████████ | 9/10 [02:04<00:11, 11.97s/it]\u001b[A\n",
            "Validate (2970 / 6800 Steps): 100%|██████████| 10/10 [02:04<00:00, 12.42s/it]\n",
            "Training (3000 / 6800 Steps) (loss=0.02983):  34%|███▍      | 31/90 [02:26<37:19, 37.95s/it]"
          ]
        },
        {
          "metadata": {
            "tags": null
          },
          "name": "stdout",
          "output_type": "stream",
          "text": [
            "Model Was Not Saved ! Current Best Avg. Dice: 0.8421638607978821 Current Avg. Dice: 0.8393791317939758\n"
          ]
        },
        {
          "metadata": {
            "tags": null
          },
          "name": "stderr",
          "output_type": "stream",
          "text": [
            "Training (3059 / 6800 Steps) (loss=0.04559): 100%|██████████| 90/90 [03:06<00:00,  2.07s/it]\n",
            "Training (3149 / 6800 Steps) (loss=0.04570): 100%|██████████| 90/90 [01:01<00:00,  1.47it/s]\n",
            "Training (3200 / 6800 Steps) (loss=0.05643):  56%|█████▌    | 50/90 [00:34<00:27,  1.48it/s]\n",
            "Validate (X / X Steps) (dice=X.X):   0%|          | 0/10 [00:00<?, ?it/s]\u001b[A\n",
            "Validate (3150 / 6800 Steps):   0%|          | 0/10 [00:06<?, ?it/s]     \u001b[A\n",
            "Validate (3150 / 6800 Steps):  10%|█         | 1/10 [00:06<01:01,  6.82s/it]\u001b[A\n",
            "Validate (3150 / 6800 Steps):  10%|█         | 1/10 [00:22<01:01,  6.82s/it]\u001b[A\n",
            "Validate (3150 / 6800 Steps):  20%|██        | 2/10 [00:22<01:34, 11.82s/it]\u001b[A\n",
            "Validate (3150 / 6800 Steps):  20%|██        | 2/10 [00:37<01:34, 11.82s/it]\u001b[A\n",
            "Validate (3150 / 6800 Steps):  30%|███       | 3/10 [00:37<01:33, 13.42s/it]\u001b[A\n",
            "Validate (3150 / 6800 Steps):  30%|███       | 3/10 [00:47<01:33, 13.42s/it]\u001b[A\n",
            "Validate (3150 / 6800 Steps):  40%|████      | 4/10 [00:47<01:12, 12.16s/it]\u001b[A\n",
            "Validate (3150 / 6800 Steps):  40%|████      | 4/10 [01:02<01:12, 12.16s/it]\u001b[A\n",
            "Validate (3150 / 6800 Steps):  50%|█████     | 5/10 [01:02<01:06, 13.29s/it]\u001b[A\n",
            "Validate (3150 / 6800 Steps):  50%|█████     | 5/10 [01:13<01:06, 13.29s/it]\u001b[A\n",
            "Validate (3150 / 6800 Steps):  60%|██████    | 6/10 [01:13<00:48, 12.24s/it]\u001b[A\n",
            "Validate (3150 / 6800 Steps):  60%|██████    | 6/10 [01:23<00:48, 12.24s/it]\u001b[A\n",
            "Validate (3150 / 6800 Steps):  70%|███████   | 7/10 [01:23<00:34, 11.58s/it]\u001b[A\n",
            "Validate (3150 / 6800 Steps):  70%|███████   | 7/10 [01:38<00:34, 11.58s/it]\u001b[A\n",
            "Validate (3150 / 6800 Steps):  80%|████████  | 8/10 [01:38<00:25, 12.76s/it]\u001b[A\n",
            "Validate (3150 / 6800 Steps):  80%|████████  | 8/10 [01:48<00:25, 12.76s/it]\u001b[A\n",
            "Validate (3150 / 6800 Steps):  90%|█████████ | 9/10 [01:48<00:11, 11.95s/it]\u001b[A\n",
            "Validate (3150 / 6800 Steps):  90%|█████████ | 9/10 [02:04<00:11, 11.95s/it]\u001b[A\n",
            "Validate (3150 / 6800 Steps): 100%|██████████| 10/10 [02:04<00:00, 12.41s/it]\n",
            "Training (3200 / 6800 Steps) (loss=0.05643):  57%|█████▋    | 51/90 [02:38<24:39, 37.92s/it]"
          ]
        },
        {
          "metadata": {
            "tags": null
          },
          "name": "stdout",
          "output_type": "stream",
          "text": [
            "Model Was Not Saved ! Current Best Avg. Dice: 0.8421638607978821 Current Avg. Dice: 0.8381153345108032\n"
          ]
        },
        {
          "metadata": {
            "tags": null
          },
          "name": "stderr",
          "output_type": "stream",
          "text": [
            "Training (3239 / 6800 Steps) (loss=0.04700): 100%|██████████| 90/90 [03:05<00:00,  2.06s/it]\n",
            "Training (3329 / 6800 Steps) (loss=0.04003): 100%|██████████| 90/90 [01:01<00:00,  1.47it/s]\n",
            "Training (3400 / 6800 Steps) (loss=0.04895):  78%|███████▊  | 70/90 [00:48<00:13,  1.47it/s]\n",
            "Validate (X / X Steps) (dice=X.X):   0%|          | 0/10 [00:00<?, ?it/s]\u001b[A\n",
            "Validate (3330 / 6800 Steps):   0%|          | 0/10 [00:06<?, ?it/s]     \u001b[A\n",
            "Validate (3330 / 6800 Steps):  10%|█         | 1/10 [00:06<01:01,  6.83s/it]\u001b[A\n",
            "Validate (3330 / 6800 Steps):  10%|█         | 1/10 [00:22<01:01,  6.83s/it]\u001b[A\n",
            "Validate (3330 / 6800 Steps):  20%|██        | 2/10 [00:22<01:34, 11.83s/it]\u001b[A\n",
            "Validate (3330 / 6800 Steps):  20%|██        | 2/10 [00:37<01:34, 11.83s/it]\u001b[A\n",
            "Validate (3330 / 6800 Steps):  30%|███       | 3/10 [00:37<01:33, 13.42s/it]\u001b[A\n",
            "Validate (3330 / 6800 Steps):  30%|███       | 3/10 [00:47<01:33, 13.42s/it]\u001b[A\n",
            "Validate (3330 / 6800 Steps):  40%|████      | 4/10 [00:47<01:12, 12.16s/it]\u001b[A\n",
            "Validate (3330 / 6800 Steps):  40%|████      | 4/10 [01:02<01:12, 12.16s/it]\u001b[A\n",
            "Validate (3330 / 6800 Steps):  50%|█████     | 5/10 [01:03<01:06, 13.29s/it]\u001b[A\n",
            "Validate (3330 / 6800 Steps):  50%|█████     | 5/10 [01:13<01:06, 13.29s/it]\u001b[A\n",
            "Validate (3330 / 6800 Steps):  60%|██████    | 6/10 [01:13<00:48, 12.25s/it]\u001b[A\n",
            "Validate (3330 / 6800 Steps):  60%|██████    | 6/10 [01:23<00:48, 12.25s/it]\u001b[A\n",
            "Validate (3330 / 6800 Steps):  70%|███████   | 7/10 [01:23<00:34, 11.58s/it]\u001b[A\n",
            "Validate (3330 / 6800 Steps):  70%|███████   | 7/10 [01:38<00:34, 11.58s/it]\u001b[A\n",
            "Validate (3330 / 6800 Steps):  80%|████████  | 8/10 [01:38<00:25, 12.77s/it]\u001b[A\n",
            "Validate (3330 / 6800 Steps):  80%|████████  | 8/10 [01:48<00:25, 12.77s/it]\u001b[A\n",
            "Validate (3330 / 6800 Steps):  90%|█████████ | 9/10 [01:48<00:11, 11.96s/it]\u001b[A\n",
            "Validate (3330 / 6800 Steps):  90%|█████████ | 9/10 [02:04<00:11, 11.96s/it]\u001b[A\n",
            "Validate (3330 / 6800 Steps): 100%|██████████| 10/10 [02:04<00:00, 12.42s/it]\n",
            "Training (3400 / 6800 Steps) (loss=0.04895):  79%|███████▉  | 71/90 [02:52<12:01, 37.95s/it]"
          ]
        },
        {
          "metadata": {
            "tags": null
          },
          "name": "stdout",
          "output_type": "stream",
          "text": [
            "Model Was Not Saved ! Current Best Avg. Dice: 0.8421638607978821 Current Avg. Dice: 0.8381689190864563\n"
          ]
        },
        {
          "metadata": {
            "tags": null
          },
          "name": "stderr",
          "output_type": "stream",
          "text": [
            "Training (3419 / 6800 Steps) (loss=0.04051): 100%|██████████| 90/90 [03:05<00:00,  2.06s/it]\n",
            "Training (3509 / 6800 Steps) (loss=0.02816): 100%|██████████| 90/90 [01:01<00:00,  1.47it/s]\n",
            "Training (3599 / 6800 Steps) (loss=0.05522): 100%|██████████| 90/90 [01:01<00:00,  1.47it/s]\n",
            "Training (3600 / 6800 Steps) (loss=0.04861):   0%|          | 0/90 [00:00<?, ?it/s]\n",
            "Validate (X / X Steps) (dice=X.X):   0%|          | 0/10 [00:00<?, ?it/s]\u001b[A\n",
            "Validate (3600 / 6800 Steps):   0%|          | 0/10 [00:06<?, ?it/s]     \u001b[A\n",
            "Validate (3600 / 6800 Steps):  10%|█         | 1/10 [00:06<01:01,  6.85s/it]\u001b[A\n",
            "Validate (3600 / 6800 Steps):  10%|█         | 1/10 [00:22<01:01,  6.85s/it]\u001b[A\n",
            "Validate (3600 / 6800 Steps):  20%|██        | 2/10 [00:22<01:34, 11.81s/it]\u001b[A\n",
            "Validate (3600 / 6800 Steps):  20%|██        | 2/10 [00:37<01:34, 11.81s/it]\u001b[A\n",
            "Validate (3600 / 6800 Steps):  30%|███       | 3/10 [00:37<01:33, 13.41s/it]\u001b[A\n",
            "Validate (3600 / 6800 Steps):  30%|███       | 3/10 [00:47<01:33, 13.41s/it]\u001b[A\n",
            "Validate (3600 / 6800 Steps):  40%|████      | 4/10 [00:47<01:12, 12.15s/it]\u001b[A\n",
            "Validate (3600 / 6800 Steps):  40%|████      | 4/10 [01:02<01:12, 12.15s/it]\u001b[A\n",
            "Validate (3600 / 6800 Steps):  50%|█████     | 5/10 [01:02<01:06, 13.27s/it]\u001b[A\n",
            "Validate (3600 / 6800 Steps):  50%|█████     | 5/10 [01:13<01:06, 13.27s/it]\u001b[A\n",
            "Validate (3600 / 6800 Steps):  60%|██████    | 6/10 [01:13<00:48, 12.21s/it]\u001b[A\n",
            "Validate (3600 / 6800 Steps):  60%|██████    | 6/10 [01:23<00:48, 12.21s/it]\u001b[A\n",
            "Validate (3600 / 6800 Steps):  70%|███████   | 7/10 [01:23<00:34, 11.53s/it]\u001b[A\n",
            "Validate (3600 / 6800 Steps):  70%|███████   | 7/10 [01:38<00:34, 11.53s/it]\u001b[A\n",
            "Validate (3600 / 6800 Steps):  80%|████████  | 8/10 [01:38<00:25, 12.70s/it]\u001b[A\n",
            "Validate (3600 / 6800 Steps):  80%|████████  | 8/10 [01:48<00:25, 12.70s/it]\u001b[A\n",
            "Validate (3600 / 6800 Steps):  90%|█████████ | 9/10 [01:48<00:11, 11.91s/it]\u001b[A\n",
            "Validate (3600 / 6800 Steps):  90%|█████████ | 9/10 [02:03<00:11, 11.91s/it]\u001b[A\n",
            "Validate (3600 / 6800 Steps): 100%|██████████| 10/10 [02:03<00:00, 12.38s/it]\n",
            "Training (3600 / 6800 Steps) (loss=0.04861):   1%|          | 1/90 [02:04<3:05:04, 124.77s/it]"
          ]
        },
        {
          "metadata": {
            "tags": null
          },
          "name": "stdout",
          "output_type": "stream",
          "text": [
            "Model Was Not Saved ! Current Best Avg. Dice: 0.8421638607978821 Current Avg. Dice: 0.8381929397583008\n"
          ]
        },
        {
          "metadata": {
            "tags": null
          },
          "name": "stderr",
          "output_type": "stream",
          "text": [
            "Training (3689 / 6800 Steps) (loss=0.04030): 100%|██████████| 90/90 [03:05<00:00,  2.06s/it]\n",
            "Training (3779 / 6800 Steps) (loss=0.03822): 100%|██████████| 90/90 [01:01<00:00,  1.46it/s]\n",
            "Training (3800 / 6800 Steps) (loss=0.09526):  22%|██▏       | 20/90 [00:14<00:47,  1.48it/s]\n",
            "Validate (X / X Steps) (dice=X.X):   0%|          | 0/10 [00:00<?, ?it/s]\u001b[A\n",
            "Validate (3780 / 6800 Steps):   0%|          | 0/10 [00:06<?, ?it/s]     \u001b[A\n",
            "Validate (3780 / 6800 Steps):  10%|█         | 1/10 [00:06<01:01,  6.83s/it]\u001b[A\n",
            "Validate (3780 / 6800 Steps):  10%|█         | 1/10 [00:22<01:01,  6.83s/it]\u001b[A\n",
            "Validate (3780 / 6800 Steps):  20%|██        | 2/10 [00:22<01:34, 11.83s/it]\u001b[A\n",
            "Validate (3780 / 6800 Steps):  20%|██        | 2/10 [00:37<01:34, 11.83s/it]\u001b[A\n",
            "Validate (3780 / 6800 Steps):  30%|███       | 3/10 [00:37<01:33, 13.43s/it]\u001b[A\n",
            "Validate (3780 / 6800 Steps):  30%|███       | 3/10 [00:47<01:33, 13.43s/it]\u001b[A\n",
            "Validate (3780 / 6800 Steps):  40%|████      | 4/10 [00:47<01:12, 12.16s/it]\u001b[A\n",
            "Validate (3780 / 6800 Steps):  40%|████      | 4/10 [01:02<01:12, 12.16s/it]\u001b[A\n",
            "Validate (3780 / 6800 Steps):  50%|█████     | 5/10 [01:02<01:06, 13.28s/it]\u001b[A\n",
            "Validate (3780 / 6800 Steps):  50%|█████     | 5/10 [01:13<01:06, 13.28s/it]\u001b[A\n",
            "Validate (3780 / 6800 Steps):  60%|██████    | 6/10 [01:13<00:48, 12.22s/it]\u001b[A\n",
            "Validate (3780 / 6800 Steps):  60%|██████    | 6/10 [01:23<00:48, 12.22s/it]\u001b[A\n",
            "Validate (3780 / 6800 Steps):  70%|███████   | 7/10 [01:23<00:34, 11.54s/it]\u001b[A\n",
            "Validate (3780 / 6800 Steps):  70%|███████   | 7/10 [01:38<00:34, 11.54s/it]\u001b[A\n",
            "Validate (3780 / 6800 Steps):  80%|████████  | 8/10 [01:38<00:25, 12.71s/it]\u001b[A\n",
            "Validate (3780 / 6800 Steps):  80%|████████  | 8/10 [01:48<00:25, 12.71s/it]\u001b[A\n",
            "Validate (3780 / 6800 Steps):  90%|█████████ | 9/10 [01:48<00:11, 11.91s/it]\u001b[A\n",
            "Validate (3780 / 6800 Steps):  90%|█████████ | 9/10 [02:03<00:11, 11.91s/it]\u001b[A\n",
            "Validate (3780 / 6800 Steps): 100%|██████████| 10/10 [02:03<00:00, 12.39s/it]\n",
            "Training (3800 / 6800 Steps) (loss=0.09526):  23%|██▎       | 21/90 [02:18<43:33, 37.87s/it]"
          ]
        },
        {
          "metadata": {
            "tags": null
          },
          "name": "stdout",
          "output_type": "stream",
          "text": [
            "Model Was Not Saved ! Current Best Avg. Dice: 0.8421638607978821 Current Avg. Dice: 0.8260042071342468\n"
          ]
        },
        {
          "metadata": {
            "tags": null
          },
          "name": "stderr",
          "output_type": "stream",
          "text": [
            "Training (3869 / 6800 Steps) (loss=0.03637): 100%|██████████| 90/90 [03:06<00:00,  2.08s/it]\n",
            "Training (3959 / 6800 Steps) (loss=0.04487): 100%|██████████| 90/90 [01:01<00:00,  1.47it/s]\n",
            "Training (4000 / 6800 Steps) (loss=0.03928):  44%|████▍     | 40/90 [00:27<00:33,  1.47it/s]\n",
            "Validate (X / X Steps) (dice=X.X):   0%|          | 0/10 [00:00<?, ?it/s]\u001b[A\n",
            "Validate (3960 / 6800 Steps):   0%|          | 0/10 [00:06<?, ?it/s]     \u001b[A\n",
            "Validate (3960 / 6800 Steps):  10%|█         | 1/10 [00:06<01:01,  6.82s/it]\u001b[A\n",
            "Validate (3960 / 6800 Steps):  10%|█         | 1/10 [00:22<01:01,  6.82s/it]\u001b[A\n",
            "Validate (3960 / 6800 Steps):  20%|██        | 2/10 [00:22<01:34, 11.82s/it]\u001b[A\n",
            "Validate (3960 / 6800 Steps):  20%|██        | 2/10 [00:37<01:34, 11.82s/it]\u001b[A\n",
            "Validate (3960 / 6800 Steps):  30%|███       | 3/10 [00:37<01:33, 13.41s/it]\u001b[A\n",
            "Validate (3960 / 6800 Steps):  30%|███       | 3/10 [00:47<01:33, 13.41s/it]\u001b[A\n",
            "Validate (3960 / 6800 Steps):  40%|████      | 4/10 [00:47<01:12, 12.14s/it]\u001b[A\n",
            "Validate (3960 / 6800 Steps):  40%|████      | 4/10 [01:02<01:12, 12.14s/it]\u001b[A\n",
            "Validate (3960 / 6800 Steps):  50%|█████     | 5/10 [01:02<01:06, 13.24s/it]\u001b[A\n",
            "Validate (3960 / 6800 Steps):  50%|█████     | 5/10 [01:12<01:06, 13.24s/it]\u001b[A\n",
            "Validate (3960 / 6800 Steps):  60%|██████    | 6/10 [01:12<00:48, 12.18s/it]\u001b[A\n",
            "Validate (3960 / 6800 Steps):  60%|██████    | 6/10 [01:23<00:48, 12.18s/it]\u001b[A\n",
            "Validate (3960 / 6800 Steps):  70%|███████   | 7/10 [01:23<00:34, 11.52s/it]\u001b[A\n",
            "Validate (3960 / 6800 Steps):  70%|███████   | 7/10 [01:38<00:34, 11.52s/it]\u001b[A\n",
            "Validate (3960 / 6800 Steps):  80%|████████  | 8/10 [01:38<00:25, 12.72s/it]\u001b[A\n",
            "Validate (3960 / 6800 Steps):  80%|████████  | 8/10 [01:48<00:25, 12.72s/it]\u001b[A\n",
            "Validate (3960 / 6800 Steps):  90%|█████████ | 9/10 [01:48<00:11, 11.94s/it]\u001b[A\n",
            "Validate (3960 / 6800 Steps):  90%|█████████ | 9/10 [02:03<00:11, 11.94s/it]\u001b[A\n",
            "Validate (3960 / 6800 Steps): 100%|██████████| 10/10 [02:03<00:00, 12.39s/it]\n",
            "Training (4000 / 6800 Steps) (loss=0.03928):  46%|████▌     | 41/90 [02:31<30:55, 37.87s/it]"
          ]
        },
        {
          "metadata": {
            "tags": null
          },
          "name": "stdout",
          "output_type": "stream",
          "text": [
            "Model Was Not Saved ! Current Best Avg. Dice: 0.8421638607978821 Current Avg. Dice: 0.8390718698501587\n"
          ]
        },
        {
          "metadata": {
            "tags": null
          },
          "name": "stderr",
          "output_type": "stream",
          "text": [
            "Training (4049 / 6800 Steps) (loss=0.07777): 100%|██████████| 90/90 [03:05<00:00,  2.06s/it]\n",
            "Training (4139 / 6800 Steps) (loss=0.04821): 100%|██████████| 90/90 [01:01<00:00,  1.47it/s]\n",
            "Training (4200 / 6800 Steps) (loss=0.05461):  67%|██████▋   | 60/90 [00:41<00:20,  1.47it/s]\n",
            "Validate (X / X Steps) (dice=X.X):   0%|          | 0/10 [00:00<?, ?it/s]\u001b[A\n",
            "Validate (4140 / 6800 Steps):   0%|          | 0/10 [00:06<?, ?it/s]     \u001b[A\n",
            "Validate (4140 / 6800 Steps):  10%|█         | 1/10 [00:06<01:01,  6.80s/it]\u001b[A\n",
            "Validate (4140 / 6800 Steps):  10%|█         | 1/10 [00:22<01:01,  6.80s/it]\u001b[A\n",
            "Validate (4140 / 6800 Steps):  20%|██        | 2/10 [00:22<01:34, 11.76s/it]\u001b[A\n",
            "Validate (4140 / 6800 Steps):  20%|██        | 2/10 [00:37<01:34, 11.76s/it]\u001b[A\n",
            "Validate (4140 / 6800 Steps):  30%|███       | 3/10 [00:37<01:33, 13.35s/it]\u001b[A\n",
            "Validate (4140 / 6800 Steps):  30%|███       | 3/10 [00:47<01:33, 13.35s/it]\u001b[A\n",
            "Validate (4140 / 6800 Steps):  40%|████      | 4/10 [00:47<01:12, 12.09s/it]\u001b[A\n",
            "Validate (4140 / 6800 Steps):  40%|████      | 4/10 [01:02<01:12, 12.09s/it]\u001b[A\n",
            "Validate (4140 / 6800 Steps):  50%|█████     | 5/10 [01:02<01:06, 13.20s/it]\u001b[A\n",
            "Validate (4140 / 6800 Steps):  50%|█████     | 5/10 [01:12<01:06, 13.20s/it]\u001b[A\n",
            "Validate (4140 / 6800 Steps):  60%|██████    | 6/10 [01:12<00:48, 12.16s/it]\u001b[A\n",
            "Validate (4140 / 6800 Steps):  60%|██████    | 6/10 [01:22<00:48, 12.16s/it]\u001b[A\n",
            "Validate (4140 / 6800 Steps):  70%|███████   | 7/10 [01:22<00:34, 11.51s/it]\u001b[A\n",
            "Validate (4140 / 6800 Steps):  70%|███████   | 7/10 [01:38<00:34, 11.51s/it]\u001b[A\n",
            "Validate (4140 / 6800 Steps):  80%|████████  | 8/10 [01:38<00:25, 12.72s/it]\u001b[A\n",
            "Validate (4140 / 6800 Steps):  80%|████████  | 8/10 [01:48<00:25, 12.72s/it]\u001b[A\n",
            "Validate (4140 / 6800 Steps):  90%|█████████ | 9/10 [01:48<00:11, 11.93s/it]\u001b[A\n",
            "Validate (4140 / 6800 Steps):  90%|█████████ | 9/10 [02:03<00:11, 11.93s/it]\u001b[A\n",
            "Validate (4140 / 6800 Steps): 100%|██████████| 10/10 [02:03<00:00, 12.37s/it]\n",
            "Training (4200 / 6800 Steps) (loss=0.05461):  68%|██████▊   | 61/90 [02:45<18:16, 37.81s/it]"
          ]
        },
        {
          "metadata": {
            "tags": null
          },
          "name": "stdout",
          "output_type": "stream",
          "text": [
            "Model Was Not Saved ! Current Best Avg. Dice: 0.8421638607978821 Current Avg. Dice: 0.8347498178482056\n"
          ]
        },
        {
          "metadata": {
            "tags": null
          },
          "name": "stderr",
          "output_type": "stream",
          "text": [
            "Training (4229 / 6800 Steps) (loss=0.03197): 100%|██████████| 90/90 [03:05<00:00,  2.06s/it]\n",
            "Training (4319 / 6800 Steps) (loss=0.05415): 100%|██████████| 90/90 [01:01<00:00,  1.47it/s]\n",
            "Training (4400 / 6800 Steps) (loss=0.04756):  89%|████████▉ | 80/90 [00:55<00:06,  1.48it/s]\n",
            "Validate (X / X Steps) (dice=X.X):   0%|          | 0/10 [00:00<?, ?it/s]\u001b[A\n",
            "Validate (4320 / 6800 Steps):   0%|          | 0/10 [00:06<?, ?it/s]     \u001b[A\n",
            "Validate (4320 / 6800 Steps):  10%|█         | 1/10 [00:06<01:01,  6.83s/it]\u001b[A\n",
            "Validate (4320 / 6800 Steps):  10%|█         | 1/10 [00:22<01:01,  6.83s/it]\u001b[A\n",
            "Validate (4320 / 6800 Steps):  20%|██        | 2/10 [00:22<01:34, 11.83s/it]\u001b[A\n",
            "Validate (4320 / 6800 Steps):  20%|██        | 2/10 [00:37<01:34, 11.83s/it]\u001b[A\n",
            "Validate (4320 / 6800 Steps):  30%|███       | 3/10 [00:37<01:33, 13.42s/it]\u001b[A\n",
            "Validate (4320 / 6800 Steps):  30%|███       | 3/10 [00:47<01:33, 13.42s/it]\u001b[A\n",
            "Validate (4320 / 6800 Steps):  40%|████      | 4/10 [00:47<01:12, 12.15s/it]\u001b[A\n",
            "Validate (4320 / 6800 Steps):  40%|████      | 4/10 [01:02<01:12, 12.15s/it]\u001b[A\n",
            "Validate (4320 / 6800 Steps):  50%|█████     | 5/10 [01:03<01:06, 13.29s/it]\u001b[A\n",
            "Validate (4320 / 6800 Steps):  50%|█████     | 5/10 [01:13<01:06, 13.29s/it]\u001b[A\n",
            "Validate (4320 / 6800 Steps):  60%|██████    | 6/10 [01:13<00:49, 12.25s/it]\u001b[A\n",
            "Validate (4320 / 6800 Steps):  60%|██████    | 6/10 [01:23<00:49, 12.25s/it]\u001b[A\n",
            "Validate (4320 / 6800 Steps):  70%|███████   | 7/10 [01:23<00:34, 11.59s/it]\u001b[A\n",
            "Validate (4320 / 6800 Steps):  70%|███████   | 7/10 [01:38<00:34, 11.59s/it]\u001b[A\n",
            "Validate (4320 / 6800 Steps):  80%|████████  | 8/10 [01:38<00:25, 12.77s/it]\u001b[A\n",
            "Validate (4320 / 6800 Steps):  80%|████████  | 8/10 [01:48<00:25, 12.77s/it]\u001b[A\n",
            "Validate (4320 / 6800 Steps):  90%|█████████ | 9/10 [01:48<00:11, 11.97s/it]\u001b[A\n",
            "Validate (4320 / 6800 Steps):  90%|█████████ | 9/10 [02:04<00:11, 11.97s/it]\u001b[A\n",
            "Validate (4320 / 6800 Steps): 100%|██████████| 10/10 [02:04<00:00, 12.43s/it]\n",
            "Training (4400 / 6800 Steps) (loss=0.04756):  90%|█████████ | 81/90 [02:59<05:41, 37.97s/it]"
          ]
        },
        {
          "metadata": {
            "tags": null
          },
          "name": "stdout",
          "output_type": "stream",
          "text": [
            "Model Was Not Saved ! Current Best Avg. Dice: 0.8421638607978821 Current Avg. Dice: 0.8369814157485962\n"
          ]
        },
        {
          "metadata": {
            "tags": null
          },
          "name": "stderr",
          "output_type": "stream",
          "text": [
            "Training (4409 / 6800 Steps) (loss=0.07287): 100%|██████████| 90/90 [03:05<00:00,  2.06s/it]\n",
            "Training (4499 / 6800 Steps) (loss=0.05149): 100%|██████████| 90/90 [01:01<00:00,  1.47it/s]\n",
            "Training (4589 / 6800 Steps) (loss=0.03799): 100%|██████████| 90/90 [01:01<00:00,  1.47it/s]\n",
            "Training (4600 / 6800 Steps) (loss=0.04459):  11%|█         | 10/90 [00:08<00:56,  1.43it/s]\n",
            "Validate (X / X Steps) (dice=X.X):   0%|          | 0/10 [00:00<?, ?it/s]\u001b[A\n",
            "Validate (4590 / 6800 Steps):   0%|          | 0/10 [00:06<?, ?it/s]     \u001b[A\n",
            "Validate (4590 / 6800 Steps):  10%|█         | 1/10 [00:06<01:01,  6.80s/it]\u001b[A\n",
            "Validate (4590 / 6800 Steps):  10%|█         | 1/10 [00:22<01:01,  6.80s/it]\u001b[A\n",
            "Validate (4590 / 6800 Steps):  20%|██        | 2/10 [00:22<01:34, 11.82s/it]\u001b[A\n",
            "Validate (4590 / 6800 Steps):  20%|██        | 2/10 [00:37<01:34, 11.82s/it]\u001b[A\n",
            "Validate (4590 / 6800 Steps):  30%|███       | 3/10 [00:37<01:33, 13.42s/it]\u001b[A\n",
            "Validate (4590 / 6800 Steps):  30%|███       | 3/10 [00:47<01:33, 13.42s/it]\u001b[A\n",
            "Validate (4590 / 6800 Steps):  40%|████      | 4/10 [00:47<01:12, 12.16s/it]\u001b[A\n",
            "Validate (4590 / 6800 Steps):  40%|████      | 4/10 [01:02<01:12, 12.16s/it]\u001b[A\n",
            "Validate (4590 / 6800 Steps):  50%|█████     | 5/10 [01:02<01:06, 13.27s/it]\u001b[A\n",
            "Validate (4590 / 6800 Steps):  50%|█████     | 5/10 [01:13<01:06, 13.27s/it]\u001b[A\n",
            "Validate (4590 / 6800 Steps):  60%|██████    | 6/10 [01:13<00:48, 12.21s/it]\u001b[A\n",
            "Validate (4590 / 6800 Steps):  60%|██████    | 6/10 [01:23<00:48, 12.21s/it]\u001b[A\n",
            "Validate (4590 / 6800 Steps):  70%|███████   | 7/10 [01:23<00:34, 11.53s/it]\u001b[A\n",
            "Validate (4590 / 6800 Steps):  70%|███████   | 7/10 [01:38<00:34, 11.53s/it]\u001b[A\n",
            "Validate (4590 / 6800 Steps):  80%|████████  | 8/10 [01:38<00:25, 12.71s/it]\u001b[A\n",
            "Validate (4590 / 6800 Steps):  80%|████████  | 8/10 [01:48<00:25, 12.71s/it]\u001b[A\n",
            "Validate (4590 / 6800 Steps):  90%|█████████ | 9/10 [01:48<00:11, 11.91s/it]\u001b[A\n",
            "Validate (4590 / 6800 Steps):  90%|█████████ | 9/10 [02:03<00:11, 11.91s/it]\u001b[A\n",
            "Validate (4590 / 6800 Steps): 100%|██████████| 10/10 [02:03<00:00, 12.38s/it]\n",
            "Training (4600 / 6800 Steps) (loss=0.04459):  12%|█▏        | 11/90 [02:11<50:48, 38.59s/it]"
          ]
        },
        {
          "metadata": {
            "tags": null
          },
          "name": "stdout",
          "output_type": "stream",
          "text": [
            "Model Was Not Saved ! Current Best Avg. Dice: 0.8421638607978821 Current Avg. Dice: 0.8369766473770142\n"
          ]
        },
        {
          "metadata": {
            "tags": null
          },
          "name": "stderr",
          "output_type": "stream",
          "text": [
            "Training (4679 / 6800 Steps) (loss=0.07707): 100%|██████████| 90/90 [03:05<00:00,  2.06s/it]\n",
            "Training (4769 / 6800 Steps) (loss=0.05706): 100%|██████████| 90/90 [01:01<00:00,  1.47it/s]\n",
            "Training (4800 / 6800 Steps) (loss=0.03321):  33%|███▎      | 30/90 [00:21<00:40,  1.46it/s]\n",
            "Validate (X / X Steps) (dice=X.X):   0%|          | 0/10 [00:00<?, ?it/s]\u001b[A\n",
            "Validate (4770 / 6800 Steps):   0%|          | 0/10 [00:06<?, ?it/s]     \u001b[A\n",
            "Validate (4770 / 6800 Steps):  10%|█         | 1/10 [00:06<01:01,  6.82s/it]\u001b[A\n",
            "Validate (4770 / 6800 Steps):  10%|█         | 1/10 [00:22<01:01,  6.82s/it]\u001b[A\n",
            "Validate (4770 / 6800 Steps):  20%|██        | 2/10 [00:22<01:34, 11.82s/it]\u001b[A\n",
            "Validate (4770 / 6800 Steps):  20%|██        | 2/10 [00:37<01:34, 11.82s/it]\u001b[A\n",
            "Validate (4770 / 6800 Steps):  30%|███       | 3/10 [00:37<01:33, 13.42s/it]\u001b[A\n",
            "Validate (4770 / 6800 Steps):  30%|███       | 3/10 [00:47<01:33, 13.42s/it]\u001b[A\n",
            "Validate (4770 / 6800 Steps):  40%|████      | 4/10 [00:47<01:12, 12.15s/it]\u001b[A\n",
            "Validate (4770 / 6800 Steps):  40%|████      | 4/10 [01:02<01:12, 12.15s/it]\u001b[A\n",
            "Validate (4770 / 6800 Steps):  50%|█████     | 5/10 [01:02<01:06, 13.27s/it]\u001b[A\n",
            "Validate (4770 / 6800 Steps):  50%|█████     | 5/10 [01:13<01:06, 13.27s/it]\u001b[A\n",
            "Validate (4770 / 6800 Steps):  60%|██████    | 6/10 [01:13<00:48, 12.20s/it]\u001b[A\n",
            "Validate (4770 / 6800 Steps):  60%|██████    | 6/10 [01:23<00:48, 12.20s/it]\u001b[A\n",
            "Validate (4770 / 6800 Steps):  70%|███████   | 7/10 [01:23<00:34, 11.54s/it]\u001b[A\n",
            "Validate (4770 / 6800 Steps):  70%|███████   | 7/10 [01:38<00:34, 11.54s/it]\u001b[A\n",
            "Validate (4770 / 6800 Steps):  80%|████████  | 8/10 [01:38<00:25, 12.72s/it]\u001b[A\n",
            "Validate (4770 / 6800 Steps):  80%|████████  | 8/10 [01:48<00:25, 12.72s/it]\u001b[A\n",
            "Validate (4770 / 6800 Steps):  90%|█████████ | 9/10 [01:48<00:11, 11.92s/it]\u001b[A\n",
            "Validate (4770 / 6800 Steps):  90%|█████████ | 9/10 [02:03<00:11, 11.92s/it]\u001b[A\n",
            "Validate (4770 / 6800 Steps): 100%|██████████| 10/10 [02:03<00:00, 12.39s/it]\n",
            "Training (4800 / 6800 Steps) (loss=0.03321):  34%|███▍      | 31/90 [02:25<37:13, 37.86s/it]"
          ]
        },
        {
          "metadata": {
            "tags": null
          },
          "name": "stdout",
          "output_type": "stream",
          "text": [
            "Model Was Not Saved ! Current Best Avg. Dice: 0.8421638607978821 Current Avg. Dice: 0.8347852826118469\n"
          ]
        },
        {
          "metadata": {
            "tags": null
          },
          "name": "stderr",
          "output_type": "stream",
          "text": [
            "Training (4859 / 6800 Steps) (loss=0.03979): 100%|██████████| 90/90 [03:05<00:00,  2.06s/it]\n",
            "Training (4949 / 6800 Steps) (loss=0.04264): 100%|██████████| 90/90 [01:01<00:00,  1.46it/s]\n",
            "Training (5000 / 6800 Steps) (loss=0.04475):  56%|█████▌    | 50/90 [00:34<00:27,  1.48it/s]\n",
            "Validate (X / X Steps) (dice=X.X):   0%|          | 0/10 [00:00<?, ?it/s]\u001b[A\n",
            "Validate (4950 / 6800 Steps):   0%|          | 0/10 [00:06<?, ?it/s]     \u001b[A\n",
            "Validate (4950 / 6800 Steps):  10%|█         | 1/10 [00:06<01:01,  6.83s/it]\u001b[A\n",
            "Validate (4950 / 6800 Steps):  10%|█         | 1/10 [00:22<01:01,  6.83s/it]\u001b[A\n",
            "Validate (4950 / 6800 Steps):  20%|██        | 2/10 [00:22<01:34, 11.82s/it]\u001b[A\n",
            "Validate (4950 / 6800 Steps):  20%|██        | 2/10 [00:37<01:34, 11.82s/it]\u001b[A\n",
            "Validate (4950 / 6800 Steps):  30%|███       | 3/10 [00:37<01:34, 13.43s/it]\u001b[A\n",
            "Validate (4950 / 6800 Steps):  30%|███       | 3/10 [00:47<01:34, 13.43s/it]\u001b[A\n",
            "Validate (4950 / 6800 Steps):  40%|████      | 4/10 [00:47<01:12, 12.16s/it]\u001b[A\n",
            "Validate (4950 / 6800 Steps):  40%|████      | 4/10 [01:03<01:12, 12.16s/it]\u001b[A\n",
            "Validate (4950 / 6800 Steps):  50%|█████     | 5/10 [01:03<01:06, 13.30s/it]\u001b[A\n",
            "Validate (4950 / 6800 Steps):  50%|█████     | 5/10 [01:13<01:06, 13.30s/it]\u001b[A\n",
            "Validate (4950 / 6800 Steps):  60%|██████    | 6/10 [01:13<00:49, 12.25s/it]\u001b[A\n",
            "Validate (4950 / 6800 Steps):  60%|██████    | 6/10 [01:23<00:49, 12.25s/it]\u001b[A\n",
            "Validate (4950 / 6800 Steps):  70%|███████   | 7/10 [01:23<00:34, 11.58s/it]\u001b[A\n",
            "Validate (4950 / 6800 Steps):  70%|███████   | 7/10 [01:38<00:34, 11.58s/it]\u001b[A\n",
            "Validate (4950 / 6800 Steps):  80%|████████  | 8/10 [01:38<00:25, 12.77s/it]\u001b[A\n",
            "Validate (4950 / 6800 Steps):  80%|████████  | 8/10 [01:48<00:25, 12.77s/it]\u001b[A\n",
            "Validate (4950 / 6800 Steps):  90%|█████████ | 9/10 [01:48<00:11, 11.95s/it]\u001b[A\n",
            "Validate (4950 / 6800 Steps):  90%|█████████ | 9/10 [02:04<00:11, 11.95s/it]\u001b[A\n",
            "Validate (4950 / 6800 Steps): 100%|██████████| 10/10 [02:04<00:00, 12.42s/it]\n",
            "Training (5000 / 6800 Steps) (loss=0.04475):  57%|█████▋    | 51/90 [02:38<24:39, 37.93s/it]"
          ]
        },
        {
          "metadata": {
            "tags": null
          },
          "name": "stdout",
          "output_type": "stream",
          "text": [
            "Model Was Not Saved ! Current Best Avg. Dice: 0.8421638607978821 Current Avg. Dice: 0.83880615234375\n"
          ]
        },
        {
          "metadata": {
            "tags": null
          },
          "name": "stderr",
          "output_type": "stream",
          "text": [
            "Training (5039 / 6800 Steps) (loss=0.05659): 100%|██████████| 90/90 [03:05<00:00,  2.06s/it]\n",
            "Training (5129 / 6800 Steps) (loss=0.03886): 100%|██████████| 90/90 [01:01<00:00,  1.46it/s]\n",
            "Training (5200 / 6800 Steps) (loss=0.06835):  78%|███████▊  | 70/90 [00:48<00:13,  1.47it/s]\n",
            "Validate (X / X Steps) (dice=X.X):   0%|          | 0/10 [00:00<?, ?it/s]\u001b[A\n",
            "Validate (5130 / 6800 Steps):   0%|          | 0/10 [00:06<?, ?it/s]     \u001b[A\n",
            "Validate (5130 / 6800 Steps):  10%|█         | 1/10 [00:06<01:01,  6.84s/it]\u001b[A\n",
            "Validate (5130 / 6800 Steps):  10%|█         | 1/10 [00:22<01:01,  6.84s/it]\u001b[A\n",
            "Validate (5130 / 6800 Steps):  20%|██        | 2/10 [00:22<01:34, 11.83s/it]\u001b[A\n",
            "Validate (5130 / 6800 Steps):  20%|██        | 2/10 [00:37<01:34, 11.83s/it]\u001b[A\n",
            "Validate (5130 / 6800 Steps):  30%|███       | 3/10 [00:37<01:33, 13.41s/it]\u001b[A\n",
            "Validate (5130 / 6800 Steps):  30%|███       | 3/10 [00:47<01:33, 13.41s/it]\u001b[A\n",
            "Validate (5130 / 6800 Steps):  40%|████      | 4/10 [00:47<01:12, 12.13s/it]\u001b[A\n",
            "Validate (5130 / 6800 Steps):  40%|████      | 4/10 [01:02<01:12, 12.13s/it]\u001b[A\n",
            "Validate (5130 / 6800 Steps):  50%|█████     | 5/10 [01:02<01:06, 13.23s/it]\u001b[A\n",
            "Validate (5130 / 6800 Steps):  50%|█████     | 5/10 [01:12<01:06, 13.23s/it]\u001b[A\n",
            "Validate (5130 / 6800 Steps):  60%|██████    | 6/10 [01:12<00:48, 12.18s/it]\u001b[A\n",
            "Validate (5130 / 6800 Steps):  60%|██████    | 6/10 [01:23<00:48, 12.18s/it]\u001b[A\n",
            "Validate (5130 / 6800 Steps):  70%|███████   | 7/10 [01:23<00:34, 11.51s/it]\u001b[A\n",
            "Validate (5130 / 6800 Steps):  70%|███████   | 7/10 [01:38<00:34, 11.51s/it]\u001b[A\n",
            "Validate (5130 / 6800 Steps):  80%|████████  | 8/10 [01:38<00:25, 12.70s/it]\u001b[A\n",
            "Validate (5130 / 6800 Steps):  80%|████████  | 8/10 [01:48<00:25, 12.70s/it]\u001b[A\n",
            "Validate (5130 / 6800 Steps):  90%|█████████ | 9/10 [01:48<00:11, 11.91s/it]\u001b[A\n",
            "Validate (5130 / 6800 Steps):  90%|█████████ | 9/10 [02:03<00:11, 11.91s/it]\u001b[A\n",
            "Validate (5130 / 6800 Steps): 100%|██████████| 10/10 [02:03<00:00, 12.37s/it]\n",
            "Training (5200 / 6800 Steps) (loss=0.06835):  79%|███████▉  | 71/90 [02:52<11:58, 37.81s/it]"
          ]
        },
        {
          "metadata": {
            "tags": null
          },
          "name": "stdout",
          "output_type": "stream",
          "text": [
            "Model Was Not Saved ! Current Best Avg. Dice: 0.8421638607978821 Current Avg. Dice: 0.8379400968551636\n"
          ]
        },
        {
          "metadata": {
            "tags": null
          },
          "name": "stderr",
          "output_type": "stream",
          "text": [
            "Training (5219 / 6800 Steps) (loss=0.04664): 100%|██████████| 90/90 [03:05<00:00,  2.06s/it]\n",
            "Training (5309 / 6800 Steps) (loss=0.03793): 100%|██████████| 90/90 [01:01<00:00,  1.46it/s]\n",
            "Training (5399 / 6800 Steps) (loss=0.04707): 100%|██████████| 90/90 [01:01<00:00,  1.46it/s]\n",
            "Training (5400 / 6800 Steps) (loss=0.03094):   0%|          | 0/90 [00:00<?, ?it/s]\n",
            "Validate (X / X Steps) (dice=X.X):   0%|          | 0/10 [00:00<?, ?it/s]\u001b[A\n",
            "Validate (5400 / 6800 Steps):   0%|          | 0/10 [00:06<?, ?it/s]     \u001b[A\n",
            "Validate (5400 / 6800 Steps):  10%|█         | 1/10 [00:06<01:01,  6.85s/it]\u001b[A\n",
            "Validate (5400 / 6800 Steps):  10%|█         | 1/10 [00:22<01:01,  6.85s/it]\u001b[A\n",
            "Validate (5400 / 6800 Steps):  20%|██        | 2/10 [00:22<01:34, 11.84s/it]\u001b[A\n",
            "Validate (5400 / 6800 Steps):  20%|██        | 2/10 [00:37<01:34, 11.84s/it]\u001b[A\n",
            "Validate (5400 / 6800 Steps):  30%|███       | 3/10 [00:37<01:33, 13.42s/it]\u001b[A\n",
            "Validate (5400 / 6800 Steps):  30%|███       | 3/10 [00:47<01:33, 13.42s/it]\u001b[A\n",
            "Validate (5400 / 6800 Steps):  40%|████      | 4/10 [00:47<01:12, 12.15s/it]\u001b[A\n",
            "Validate (5400 / 6800 Steps):  40%|████      | 4/10 [01:02<01:12, 12.15s/it]\u001b[A\n",
            "Validate (5400 / 6800 Steps):  50%|█████     | 5/10 [01:02<01:06, 13.26s/it]\u001b[A\n",
            "Validate (5400 / 6800 Steps):  50%|█████     | 5/10 [01:13<01:06, 13.26s/it]\u001b[A\n",
            "Validate (5400 / 6800 Steps):  60%|██████    | 6/10 [01:13<00:48, 12.20s/it]\u001b[A\n",
            "Validate (5400 / 6800 Steps):  60%|██████    | 6/10 [01:23<00:48, 12.20s/it]\u001b[A\n",
            "Validate (5400 / 6800 Steps):  70%|███████   | 7/10 [01:23<00:34, 11.54s/it]\u001b[A\n",
            "Validate (5400 / 6800 Steps):  70%|███████   | 7/10 [01:38<00:34, 11.54s/it]\u001b[A\n",
            "Validate (5400 / 6800 Steps):  80%|████████  | 8/10 [01:38<00:25, 12.74s/it]\u001b[A\n",
            "Validate (5400 / 6800 Steps):  80%|████████  | 8/10 [01:48<00:25, 12.74s/it]\u001b[A\n",
            "Validate (5400 / 6800 Steps):  90%|█████████ | 9/10 [01:48<00:11, 11.95s/it]\u001b[A\n",
            "Validate (5400 / 6800 Steps):  90%|█████████ | 9/10 [02:04<00:11, 11.95s/it]\u001b[A\n",
            "Validate (5400 / 6800 Steps): 100%|██████████| 10/10 [02:04<00:00, 12.41s/it]\n",
            "Training (5400 / 6800 Steps) (loss=0.03094):   1%|          | 1/90 [02:04<3:05:18, 124.93s/it]"
          ]
        },
        {
          "metadata": {
            "tags": null
          },
          "name": "stdout",
          "output_type": "stream",
          "text": [
            "Model Was Not Saved ! Current Best Avg. Dice: 0.8421638607978821 Current Avg. Dice: 0.8393669128417969\n"
          ]
        },
        {
          "metadata": {
            "tags": null
          },
          "name": "stderr",
          "output_type": "stream",
          "text": [
            "Training (5489 / 6800 Steps) (loss=0.04327): 100%|██████████| 90/90 [03:05<00:00,  2.06s/it]\n",
            "Training (5579 / 6800 Steps) (loss=0.05480): 100%|██████████| 90/90 [01:01<00:00,  1.46it/s]\n",
            "Training (5600 / 6800 Steps) (loss=0.03918):  22%|██▏       | 20/90 [00:14<00:47,  1.46it/s]\n",
            "Validate (X / X Steps) (dice=X.X):   0%|          | 0/10 [00:00<?, ?it/s]\u001b[A\n",
            "Validate (5580 / 6800 Steps):   0%|          | 0/10 [00:06<?, ?it/s]     \u001b[A\n",
            "Validate (5580 / 6800 Steps):  10%|█         | 1/10 [00:06<01:01,  6.83s/it]\u001b[A\n",
            "Validate (5580 / 6800 Steps):  10%|█         | 1/10 [00:22<01:01,  6.83s/it]\u001b[A\n",
            "Validate (5580 / 6800 Steps):  20%|██        | 2/10 [00:22<01:34, 11.78s/it]\u001b[A\n",
            "Validate (5580 / 6800 Steps):  20%|██        | 2/10 [00:37<01:34, 11.78s/it]\u001b[A\n",
            "Validate (5580 / 6800 Steps):  30%|███       | 3/10 [00:37<01:33, 13.35s/it]\u001b[A\n",
            "Validate (5580 / 6800 Steps):  30%|███       | 3/10 [00:47<01:33, 13.35s/it]\u001b[A\n",
            "Validate (5580 / 6800 Steps):  40%|████      | 4/10 [00:47<01:12, 12.10s/it]\u001b[A\n",
            "Validate (5580 / 6800 Steps):  40%|████      | 4/10 [01:02<01:12, 12.10s/it]\u001b[A\n",
            "Validate (5580 / 6800 Steps):  50%|█████     | 5/10 [01:02<01:06, 13.25s/it]\u001b[A\n",
            "Validate (5580 / 6800 Steps):  50%|█████     | 5/10 [01:12<01:06, 13.25s/it]\u001b[A\n",
            "Validate (5580 / 6800 Steps):  60%|██████    | 6/10 [01:12<00:48, 12.22s/it]\u001b[A\n",
            "Validate (5580 / 6800 Steps):  60%|██████    | 6/10 [01:23<00:48, 12.22s/it]\u001b[A\n",
            "Validate (5580 / 6800 Steps):  70%|███████   | 7/10 [01:23<00:34, 11.56s/it]\u001b[A\n",
            "Validate (5580 / 6800 Steps):  70%|███████   | 7/10 [01:38<00:34, 11.56s/it]\u001b[A\n",
            "Validate (5580 / 6800 Steps):  80%|████████  | 8/10 [01:38<00:25, 12.76s/it]\u001b[A\n",
            "Validate (5580 / 6800 Steps):  80%|████████  | 8/10 [01:48<00:25, 12.76s/it]\u001b[A\n",
            "Validate (5580 / 6800 Steps):  90%|█████████ | 9/10 [01:48<00:11, 11.96s/it]\u001b[A\n",
            "Validate (5580 / 6800 Steps):  90%|█████████ | 9/10 [02:04<00:11, 11.96s/it]\u001b[A\n",
            "Validate (5580 / 6800 Steps): 100%|██████████| 10/10 [02:04<00:00, 12.40s/it]\n",
            "Training (5600 / 6800 Steps) (loss=0.03918):  23%|██▎       | 21/90 [02:18<43:36, 37.92s/it]"
          ]
        },
        {
          "metadata": {
            "tags": null
          },
          "name": "stdout",
          "output_type": "stream",
          "text": [
            "Model Was Not Saved ! Current Best Avg. Dice: 0.8421638607978821 Current Avg. Dice: 0.8356310129165649\n"
          ]
        },
        {
          "metadata": {
            "tags": null
          },
          "name": "stderr",
          "output_type": "stream",
          "text": [
            "Training (5669 / 6800 Steps) (loss=0.04246): 100%|██████████| 90/90 [03:05<00:00,  2.06s/it]\n",
            "Training (5759 / 6800 Steps) (loss=0.05233): 100%|██████████| 90/90 [01:01<00:00,  1.46it/s]\n",
            "Training (5800 / 6800 Steps) (loss=0.04575):  44%|████▍     | 40/90 [00:28<00:33,  1.48it/s]\n",
            "Validate (X / X Steps) (dice=X.X):   0%|          | 0/10 [00:00<?, ?it/s]\u001b[A\n",
            "Validate (5760 / 6800 Steps):   0%|          | 0/10 [00:06<?, ?it/s]     \u001b[A\n",
            "Validate (5760 / 6800 Steps):  10%|█         | 1/10 [00:06<01:01,  6.81s/it]\u001b[A\n",
            "Validate (5760 / 6800 Steps):  10%|█         | 1/10 [00:22<01:01,  6.81s/it]\u001b[A\n",
            "Validate (5760 / 6800 Steps):  20%|██        | 2/10 [00:22<01:34, 11.80s/it]\u001b[A\n",
            "Validate (5760 / 6800 Steps):  20%|██        | 2/10 [00:37<01:34, 11.80s/it]\u001b[A\n",
            "Validate (5760 / 6800 Steps):  30%|███       | 3/10 [00:37<01:33, 13.39s/it]\u001b[A\n",
            "Validate (5760 / 6800 Steps):  30%|███       | 3/10 [00:47<01:33, 13.39s/it]\u001b[A\n",
            "Validate (5760 / 6800 Steps):  40%|████      | 4/10 [00:47<01:12, 12.14s/it]\u001b[A\n",
            "Validate (5760 / 6800 Steps):  40%|████      | 4/10 [01:02<01:12, 12.14s/it]\u001b[A\n",
            "Validate (5760 / 6800 Steps):  50%|█████     | 5/10 [01:02<01:06, 13.28s/it]\u001b[A\n",
            "Validate (5760 / 6800 Steps):  50%|█████     | 5/10 [01:13<01:06, 13.28s/it]\u001b[A\n",
            "Validate (5760 / 6800 Steps):  60%|██████    | 6/10 [01:13<00:48, 12.24s/it]\u001b[A\n",
            "Validate (5760 / 6800 Steps):  60%|██████    | 6/10 [01:23<00:48, 12.24s/it]\u001b[A\n",
            "Validate (5760 / 6800 Steps):  70%|███████   | 7/10 [01:23<00:34, 11.57s/it]\u001b[A\n",
            "Validate (5760 / 6800 Steps):  70%|███████   | 7/10 [01:38<00:34, 11.57s/it]\u001b[A\n",
            "Validate (5760 / 6800 Steps):  80%|████████  | 8/10 [01:38<00:25, 12.76s/it]\u001b[A\n",
            "Validate (5760 / 6800 Steps):  80%|████████  | 8/10 [01:48<00:25, 12.76s/it]\u001b[A\n",
            "Validate (5760 / 6800 Steps):  90%|█████████ | 9/10 [01:48<00:11, 11.96s/it]\u001b[A\n",
            "Validate (5760 / 6800 Steps):  90%|█████████ | 9/10 [02:04<00:11, 11.96s/it]\u001b[A\n",
            "Validate (5760 / 6800 Steps): 100%|██████████| 10/10 [02:04<00:00, 12.41s/it]\n",
            "Training (5800 / 6800 Steps) (loss=0.04575):  46%|████▌     | 41/90 [02:32<30:57, 37.92s/it]"
          ]
        },
        {
          "metadata": {
            "tags": null
          },
          "name": "stdout",
          "output_type": "stream",
          "text": [
            "Model Was Not Saved ! Current Best Avg. Dice: 0.8421638607978821 Current Avg. Dice: 0.8384075164794922\n"
          ]
        },
        {
          "metadata": {
            "tags": null
          },
          "name": "stderr",
          "output_type": "stream",
          "text": [
            "Training (5849 / 6800 Steps) (loss=0.05517): 100%|██████████| 90/90 [03:05<00:00,  2.06s/it]\n",
            "Training (5939 / 6800 Steps) (loss=0.03395): 100%|██████████| 90/90 [01:01<00:00,  1.46it/s]\n",
            "Training (6000 / 6800 Steps) (loss=0.03203):  67%|██████▋   | 60/90 [00:41<00:20,  1.48it/s]\n",
            "Validate (X / X Steps) (dice=X.X):   0%|          | 0/10 [00:00<?, ?it/s]\u001b[A\n",
            "Validate (5940 / 6800 Steps):   0%|          | 0/10 [00:06<?, ?it/s]     \u001b[A\n",
            "Validate (5940 / 6800 Steps):  10%|█         | 1/10 [00:06<01:01,  6.83s/it]\u001b[A\n",
            "Validate (5940 / 6800 Steps):  10%|█         | 1/10 [00:22<01:01,  6.83s/it]\u001b[A\n",
            "Validate (5940 / 6800 Steps):  20%|██        | 2/10 [00:22<01:34, 11.84s/it]\u001b[A\n",
            "Validate (5940 / 6800 Steps):  20%|██        | 2/10 [00:37<01:34, 11.84s/it]\u001b[A\n",
            "Validate (5940 / 6800 Steps):  30%|███       | 3/10 [00:37<01:34, 13.44s/it]\u001b[A\n",
            "Validate (5940 / 6800 Steps):  30%|███       | 3/10 [00:47<01:34, 13.44s/it]\u001b[A\n",
            "Validate (5940 / 6800 Steps):  40%|████      | 4/10 [00:47<01:13, 12.17s/it]\u001b[A\n",
            "Validate (5940 / 6800 Steps):  40%|████      | 4/10 [01:02<01:13, 12.17s/it]\u001b[A\n",
            "Validate (5940 / 6800 Steps):  50%|█████     | 5/10 [01:02<01:06, 13.26s/it]\u001b[A\n",
            "Validate (5940 / 6800 Steps):  50%|█████     | 5/10 [01:13<01:06, 13.26s/it]\u001b[A\n",
            "Validate (5940 / 6800 Steps):  60%|██████    | 6/10 [01:13<00:48, 12.20s/it]\u001b[A\n",
            "Validate (5940 / 6800 Steps):  60%|██████    | 6/10 [01:23<00:48, 12.20s/it]\u001b[A\n",
            "Validate (5940 / 6800 Steps):  70%|███████   | 7/10 [01:23<00:34, 11.53s/it]\u001b[A\n",
            "Validate (5940 / 6800 Steps):  70%|███████   | 7/10 [01:38<00:34, 11.53s/it]\u001b[A\n",
            "Validate (5940 / 6800 Steps):  80%|████████  | 8/10 [01:38<00:25, 12.71s/it]\u001b[A\n",
            "Validate (5940 / 6800 Steps):  80%|████████  | 8/10 [01:48<00:25, 12.71s/it]\u001b[A\n",
            "Validate (5940 / 6800 Steps):  90%|█████████ | 9/10 [01:48<00:11, 11.91s/it]\u001b[A\n",
            "Validate (5940 / 6800 Steps):  90%|█████████ | 9/10 [02:03<00:11, 11.91s/it]\u001b[A\n",
            "Validate (5940 / 6800 Steps): 100%|██████████| 10/10 [02:03<00:00, 12.38s/it]\n",
            "Training (6000 / 6800 Steps) (loss=0.03203):  68%|██████▊   | 61/90 [02:45<18:17, 37.84s/it]"
          ]
        },
        {
          "metadata": {
            "tags": null
          },
          "name": "stdout",
          "output_type": "stream",
          "text": [
            "Model Was Not Saved ! Current Best Avg. Dice: 0.8421638607978821 Current Avg. Dice: 0.8400738835334778\n"
          ]
        },
        {
          "output_type": "stream",
          "name": "stderr",
          "text": [
            "Training (6029 / 6800 Steps) (loss=0.02664): 100%|██████████| 90/90 [03:05<00:00,  2.06s/it]\n",
            "Training (6119 / 6800 Steps) (loss=0.04133): 100%|██████████| 90/90 [01:01<00:00,  1.47it/s]\n",
            "Training (6200 / 6800 Steps) (loss=0.05452):  89%|████████▉ | 80/90 [00:55<00:06,  1.48it/s]\n",
            "Validate (X / X Steps) (dice=X.X):   0%|          | 0/10 [00:00<?, ?it/s]\u001b[A\n",
            "Validate (6120 / 6800 Steps):   0%|          | 0/10 [00:06<?, ?it/s]     \u001b[A\n",
            "Validate (6120 / 6800 Steps):  10%|█         | 1/10 [00:06<01:01,  6.84s/it]\u001b[A\n",
            "Validate (6120 / 6800 Steps):  10%|█         | 1/10 [00:22<01:01,  6.84s/it]\u001b[A\n",
            "Validate (6120 / 6800 Steps):  20%|██        | 2/10 [00:22<01:34, 11.83s/it]\u001b[A\n",
            "Validate (6120 / 6800 Steps):  20%|██        | 2/10 [00:37<01:34, 11.83s/it]\u001b[A\n",
            "Validate (6120 / 6800 Steps):  30%|███       | 3/10 [00:37<01:33, 13.42s/it]\u001b[A\n",
            "Validate (6120 / 6800 Steps):  30%|███       | 3/10 [00:47<01:33, 13.42s/it]\u001b[A\n",
            "Validate (6120 / 6800 Steps):  40%|████      | 4/10 [00:47<01:12, 12.15s/it]\u001b[A\n",
            "Validate (6120 / 6800 Steps):  40%|████      | 4/10 [01:02<01:12, 12.15s/it]\u001b[A\n",
            "Validate (6120 / 6800 Steps):  50%|█████     | 5/10 [01:02<01:06, 13.27s/it]\u001b[A\n",
            "Validate (6120 / 6800 Steps):  50%|█████     | 5/10 [01:13<01:06, 13.27s/it]\u001b[A\n",
            "Validate (6120 / 6800 Steps):  60%|██████    | 6/10 [01:13<00:48, 12.21s/it]\u001b[A\n",
            "Validate (6120 / 6800 Steps):  60%|██████    | 6/10 [01:23<00:48, 12.21s/it]\u001b[A\n",
            "Validate (6120 / 6800 Steps):  70%|███████   | 7/10 [01:23<00:34, 11.54s/it]\u001b[A\n",
            "Validate (6120 / 6800 Steps):  70%|███████   | 7/10 [01:38<00:34, 11.54s/it]\u001b[A\n",
            "Validate (6120 / 6800 Steps):  80%|████████  | 8/10 [01:38<00:25, 12.72s/it]\u001b[A\n",
            "Validate (6120 / 6800 Steps):  80%|████████  | 8/10 [01:48<00:25, 12.72s/it]\u001b[A\n",
            "Validate (6120 / 6800 Steps):  90%|█████████ | 9/10 [01:48<00:11, 11.94s/it]\u001b[A\n",
            "Validate (6120 / 6800 Steps):  90%|█████████ | 9/10 [02:04<00:11, 11.94s/it]\u001b[A\n",
            "Validate (6120 / 6800 Steps): 100%|██████████| 10/10 [02:04<00:00, 12.40s/it]\n",
            "Training (6200 / 6800 Steps) (loss=0.05452):  90%|█████████ | 81/90 [02:59<05:41, 37.90s/it]"
          ]
        },
        {
          "output_type": "stream",
          "name": "stdout",
          "text": [
            "Model Was Not Saved ! Current Best Avg. Dice: 0.8421638607978821 Current Avg. Dice: 0.8376213908195496\n"
          ]
        },
        {
          "output_type": "stream",
          "name": "stderr",
          "text": [
            "Training (6209 / 6800 Steps) (loss=0.03648): 100%|██████████| 90/90 [03:05<00:00,  2.06s/it]\n",
            "Training (6299 / 6800 Steps) (loss=0.04121): 100%|██████████| 90/90 [01:01<00:00,  1.47it/s]\n",
            "Training (6389 / 6800 Steps) (loss=0.05830): 100%|██████████| 90/90 [01:01<00:00,  1.47it/s]\n",
            "Training (6400 / 6800 Steps) (loss=0.06837):  11%|█         | 10/90 [00:07<00:54,  1.48it/s]\n",
            "Validate (X / X Steps) (dice=X.X):   0%|          | 0/10 [00:00<?, ?it/s]\u001b[A\n",
            "Validate (6390 / 6800 Steps):   0%|          | 0/10 [00:06<?, ?it/s]     \u001b[A\n",
            "Validate (6390 / 6800 Steps):  10%|█         | 1/10 [00:06<01:01,  6.82s/it]\u001b[A\n",
            "Validate (6390 / 6800 Steps):  10%|█         | 1/10 [00:22<01:01,  6.82s/it]\u001b[A\n",
            "Validate (6390 / 6800 Steps):  20%|██        | 2/10 [00:22<01:34, 11.81s/it]\u001b[A\n",
            "Validate (6390 / 6800 Steps):  20%|██        | 2/10 [00:37<01:34, 11.81s/it]\u001b[A\n",
            "Validate (6390 / 6800 Steps):  30%|███       | 3/10 [00:37<01:33, 13.42s/it]\u001b[A\n",
            "Validate (6390 / 6800 Steps):  30%|███       | 3/10 [00:47<01:33, 13.42s/it]\u001b[A\n",
            "Validate (6390 / 6800 Steps):  40%|████      | 4/10 [00:47<01:12, 12.15s/it]\u001b[A\n",
            "Validate (6390 / 6800 Steps):  40%|████      | 4/10 [01:02<01:12, 12.15s/it]\u001b[A\n",
            "Validate (6390 / 6800 Steps):  50%|█████     | 5/10 [01:02<01:06, 13.29s/it]\u001b[A\n",
            "Validate (6390 / 6800 Steps):  50%|█████     | 5/10 [01:13<01:06, 13.29s/it]\u001b[A\n",
            "Validate (6390 / 6800 Steps):  60%|██████    | 6/10 [01:13<00:48, 12.23s/it]\u001b[A\n",
            "Validate (6390 / 6800 Steps):  60%|██████    | 6/10 [01:23<00:48, 12.23s/it]\u001b[A\n",
            "Validate (6390 / 6800 Steps):  70%|███████   | 7/10 [01:23<00:34, 11.55s/it]\u001b[A\n",
            "Validate (6390 / 6800 Steps):  70%|███████   | 7/10 [01:38<00:34, 11.55s/it]\u001b[A\n",
            "Validate (6390 / 6800 Steps):  80%|████████  | 8/10 [01:38<00:25, 12.72s/it]\u001b[A\n",
            "Validate (6390 / 6800 Steps):  80%|████████  | 8/10 [01:48<00:25, 12.72s/it]\u001b[A\n",
            "Validate (6390 / 6800 Steps):  90%|█████████ | 9/10 [01:48<00:11, 11.92s/it]\u001b[A\n",
            "Validate (6390 / 6800 Steps):  90%|█████████ | 9/10 [02:03<00:11, 11.92s/it]\u001b[A\n",
            "Validate (6390 / 6800 Steps): 100%|██████████| 10/10 [02:03<00:00, 12.39s/it]\n",
            "Training (6400 / 6800 Steps) (loss=0.06837):  12%|█▏        | 11/90 [02:11<50:49, 38.61s/it]"
          ]
        },
        {
          "output_type": "stream",
          "name": "stdout",
          "text": [
            "Model Was Not Saved ! Current Best Avg. Dice: 0.8421638607978821 Current Avg. Dice: 0.8377534747123718\n"
          ]
        },
        {
          "output_type": "stream",
          "name": "stderr",
          "text": [
            "Training (6479 / 6800 Steps) (loss=0.03293): 100%|██████████| 90/90 [03:05<00:00,  2.06s/it]\n",
            "Training (6569 / 6800 Steps) (loss=0.03849): 100%|██████████| 90/90 [01:01<00:00,  1.45it/s]\n",
            "Training (6600 / 6800 Steps) (loss=0.03827):  33%|███▎      | 30/90 [00:21<00:40,  1.48it/s]\n",
            "Validate (X / X Steps) (dice=X.X):   0%|          | 0/10 [00:00<?, ?it/s]\u001b[A\n",
            "Validate (6570 / 6800 Steps):   0%|          | 0/10 [00:06<?, ?it/s]     \u001b[A\n",
            "Validate (6570 / 6800 Steps):  10%|█         | 1/10 [00:06<01:01,  6.82s/it]\u001b[A\n",
            "Validate (6570 / 6800 Steps):  10%|█         | 1/10 [00:22<01:01,  6.82s/it]\u001b[A\n",
            "Validate (6570 / 6800 Steps):  20%|██        | 2/10 [00:22<01:34, 11.83s/it]\u001b[A\n",
            "Validate (6570 / 6800 Steps):  20%|██        | 2/10 [00:37<01:34, 11.83s/it]\u001b[A\n",
            "Validate (6570 / 6800 Steps):  30%|███       | 3/10 [00:37<01:33, 13.41s/it]\u001b[A\n",
            "Validate (6570 / 6800 Steps):  30%|███       | 3/10 [00:47<01:33, 13.41s/it]\u001b[A\n",
            "Validate (6570 / 6800 Steps):  40%|████      | 4/10 [00:47<01:12, 12.14s/it]\u001b[A\n",
            "Validate (6570 / 6800 Steps):  40%|████      | 4/10 [01:02<01:12, 12.14s/it]\u001b[A\n",
            "Validate (6570 / 6800 Steps):  50%|█████     | 5/10 [01:02<01:06, 13.25s/it]\u001b[A\n",
            "Validate (6570 / 6800 Steps):  50%|█████     | 5/10 [01:12<01:06, 13.25s/it]\u001b[A\n",
            "Validate (6570 / 6800 Steps):  60%|██████    | 6/10 [01:12<00:48, 12.19s/it]\u001b[A\n",
            "Validate (6570 / 6800 Steps):  60%|██████    | 6/10 [01:23<00:48, 12.19s/it]\u001b[A\n",
            "Validate (6570 / 6800 Steps):  70%|███████   | 7/10 [01:23<00:34, 11.53s/it]\u001b[A\n",
            "Validate (6570 / 6800 Steps):  70%|███████   | 7/10 [01:38<00:34, 11.53s/it]\u001b[A\n",
            "Validate (6570 / 6800 Steps):  80%|████████  | 8/10 [01:38<00:25, 12.74s/it]\u001b[A\n",
            "Validate (6570 / 6800 Steps):  80%|████████  | 8/10 [01:48<00:25, 12.74s/it]\u001b[A\n",
            "Validate (6570 / 6800 Steps):  90%|█████████ | 9/10 [01:48<00:11, 11.96s/it]\u001b[A\n",
            "Validate (6570 / 6800 Steps):  90%|█████████ | 9/10 [02:04<00:11, 11.96s/it]\u001b[A\n",
            "Validate (6570 / 6800 Steps): 100%|██████████| 10/10 [02:04<00:00, 12.40s/it]\n",
            "Training (6600 / 6800 Steps) (loss=0.03827):  34%|███▍      | 31/90 [02:25<37:16, 37.91s/it]"
          ]
        },
        {
          "output_type": "stream",
          "name": "stdout",
          "text": [
            "Model Was Not Saved ! Current Best Avg. Dice: 0.8421638607978821 Current Avg. Dice: 0.8374401926994324\n"
          ]
        },
        {
          "output_type": "stream",
          "name": "stderr",
          "text": [
            "Training (6659 / 6800 Steps) (loss=0.03963): 100%|██████████| 90/90 [03:05<00:00,  2.06s/it]\n",
            "Training (6749 / 6800 Steps) (loss=0.04061): 100%|██████████| 90/90 [01:01<00:00,  1.47it/s]\n",
            "Training (6800 / 6800 Steps) (loss=0.03562):  56%|█████▌    | 50/90 [00:34<00:27,  1.48it/s]\n",
            "Validate (X / X Steps) (dice=X.X):   0%|          | 0/10 [00:00<?, ?it/s]\u001b[A\n",
            "Validate (6750 / 6800 Steps):   0%|          | 0/10 [00:06<?, ?it/s]     \u001b[A\n",
            "Validate (6750 / 6800 Steps):  10%|█         | 1/10 [00:06<01:01,  6.85s/it]\u001b[A\n",
            "Validate (6750 / 6800 Steps):  10%|█         | 1/10 [00:22<01:01,  6.85s/it]\u001b[A\n",
            "Validate (6750 / 6800 Steps):  20%|██        | 2/10 [00:22<01:34, 11.82s/it]\u001b[A\n",
            "Validate (6750 / 6800 Steps):  20%|██        | 2/10 [00:37<01:34, 11.82s/it]\u001b[A\n",
            "Validate (6750 / 6800 Steps):  30%|███       | 3/10 [00:37<01:33, 13.41s/it]\u001b[A\n",
            "Validate (6750 / 6800 Steps):  30%|███       | 3/10 [00:47<01:33, 13.41s/it]\u001b[A\n",
            "Validate (6750 / 6800 Steps):  40%|████      | 4/10 [00:47<01:12, 12.14s/it]\u001b[A\n",
            "Validate (6750 / 6800 Steps):  40%|████      | 4/10 [01:02<01:12, 12.14s/it]\u001b[A\n",
            "Validate (6750 / 6800 Steps):  50%|█████     | 5/10 [01:02<01:06, 13.26s/it]\u001b[A\n",
            "Validate (6750 / 6800 Steps):  50%|█████     | 5/10 [01:13<01:06, 13.26s/it]\u001b[A\n",
            "Validate (6750 / 6800 Steps):  60%|██████    | 6/10 [01:13<00:48, 12.21s/it]\u001b[A\n",
            "Validate (6750 / 6800 Steps):  60%|██████    | 6/10 [01:23<00:48, 12.21s/it]\u001b[A\n",
            "Validate (6750 / 6800 Steps):  70%|███████   | 7/10 [01:23<00:34, 11.54s/it]\u001b[A\n",
            "Validate (6750 / 6800 Steps):  70%|███████   | 7/10 [01:38<00:34, 11.54s/it]\u001b[A\n",
            "Validate (6750 / 6800 Steps):  80%|████████  | 8/10 [01:38<00:25, 12.72s/it]\u001b[A\n",
            "Validate (6750 / 6800 Steps):  80%|████████  | 8/10 [01:48<00:25, 12.72s/it]\u001b[A\n",
            "Validate (6750 / 6800 Steps):  90%|█████████ | 9/10 [01:48<00:11, 11.93s/it]\u001b[A\n",
            "Validate (6750 / 6800 Steps):  90%|█████████ | 9/10 [02:03<00:11, 11.93s/it]\u001b[A\n",
            "Validate (6750 / 6800 Steps): 100%|██████████| 10/10 [02:03<00:00, 12.39s/it]\n",
            "Training (6800 / 6800 Steps) (loss=0.03562):  57%|█████▋    | 51/90 [02:38<24:36, 37.85s/it]"
          ]
        },
        {
          "output_type": "stream",
          "name": "stdout",
          "text": [
            "Model Was Not Saved ! Current Best Avg. Dice: 0.8421638607978821 Current Avg. Dice: 0.840173602104187\n"
          ]
        },
        {
          "output_type": "stream",
          "name": "stderr",
          "text": [
            "Training (6839 / 6800 Steps) (loss=0.03801): 100%|██████████| 90/90 [03:05<00:00,  2.06s/it]\n"
          ]
        }
      ]
    },
    {
      "cell_type": "code",
      "source": [
        "# torch.save(\n",
        "#     model.state_dict(), f\"/content/drive/MyDrive/PARSE/PAS/weights/swin_fusion128_ckpt.pth\"\n",
        "# )"
      ],
      "metadata": {
        "id": "afczSJVUQFSy"
      },
      "execution_count": null,
      "outputs": []
    },
    {
      "cell_type": "code",
      "source": [
        "len(metric_values), max(metric_values)"
      ],
      "metadata": {
        "id": "3aOrEj37w5S2",
        "colab": {
          "base_uri": "https://localhost:8080/"
        },
        "outputId": "27b5d7d3-5783-411b-f18c-487ac9d81333"
      },
      "execution_count": null,
      "outputs": [
        {
          "output_type": "execute_result",
          "data": {
            "text/plain": [
              "(394, 0.8421638607978821)"
            ]
          },
          "metadata": {},
          "execution_count": 27
        }
      ]
    },
    {
      "cell_type": "code",
      "source": [
        "import datetime\n",
        "\n",
        "np.save(f'/content/drive/MyDrive/PARSE/PAS/weights/max/swin_fusion_od2_epoch_loss.npy', metric_values)\n",
        "np.save(f'/content/drive/MyDrive/PARSE/PAS/weights/max/swin_fusion_od2_dice_val.npy', epoch_loss_values)\n",
        "\n",
        "print(\"saved\", datetime.datetime.now())"
      ],
      "metadata": {
        "id": "4XQtWYfgB3I2",
        "colab": {
          "base_uri": "https://localhost:8080/"
        },
        "outputId": "e60b8bc3-eeaa-4db4-a817-d557c96224fe"
      },
      "execution_count": null,
      "outputs": [
        {
          "output_type": "stream",
          "name": "stdout",
          "text": [
            "saved 2023-05-28 16:31:51.068120\n"
          ]
        }
      ]
    },
    {
      "cell_type": "code",
      "source": [
        "for i in range(1000000000000000000000000000):\n",
        "    pass"
      ],
      "metadata": {
        "id": "EM_MdW839_8P"
      },
      "execution_count": null,
      "outputs": []
    },
    {
      "cell_type": "code",
      "source": [
        "epoch_loss_values = list(np.load(f'/content/drive/MyDrive/PARSE/PAS/weights/swin_epoch_loss.npy'))\n",
        "metric_values = list(np.load(f'/content/drive/MyDrive/PARSE/PAS/weights/swin_dice_val.npy'))"
      ],
      "metadata": {
        "id": "OMWSglv3CBWJ"
      },
      "execution_count": null,
      "outputs": []
    },
    {
      "cell_type": "code",
      "source": [
        "# metric_values"
      ],
      "metadata": {
        "id": "zppSC3zlbG3N"
      },
      "execution_count": null,
      "outputs": []
    },
    {
      "cell_type": "code",
      "source": [
        "metric_values2 = [i for i in metric_values if i>0.47]"
      ],
      "metadata": {
        "id": "8TW3XWUCap6H"
      },
      "execution_count": null,
      "outputs": []
    },
    {
      "cell_type": "code",
      "source": [
        "plt.plot(metric_values2)\n",
        "# plt.ylabel('Validation Dice score')\n",
        "plt.title('Test Dice score')\n",
        "plt.savefig('fig.png')"
      ],
      "metadata": {
        "colab": {
          "base_uri": "https://localhost:8080/",
          "height": 452
        },
        "id": "nRAG0lCta6wQ",
        "outputId": "b2237e25-469b-4590-f4f5-f735fdace99e"
      },
      "execution_count": null,
      "outputs": [
        {
          "output_type": "display_data",
          "data": {
            "text/plain": [
              "<Figure size 640x480 with 1 Axes>"
            ],
            "image/png": "[encoded data removed]"
          },
          "metadata": {}
        }
      ]
    },
    {
      "cell_type": "code",
      "source": [
        "plt.plot(metric_values)"
      ],
      "metadata": {
        "colab": {
          "base_uri": "https://localhost:8080/",
          "height": 447
        },
        "id": "p8AeXnTGafUf",
        "outputId": "c523e21a-c205-42b5-ceca-102758404642"
      },
      "execution_count": null,
      "outputs": [
        {
          "output_type": "execute_result",
          "data": {
            "text/plain": [
              "[<matplotlib.lines.Line2D at 0x7f963cd63a60>]"
            ]
          },
          "metadata": {},
          "execution_count": 20
        },
        {
          "output_type": "display_data",
          "data": {
            "text/plain": [
              "<Figure size 640x480 with 1 Axes>"
            ],
            "image/png": "[encoded data removed]"
          },
          "metadata": {}
        }
      ]
    },
    {
      "cell_type": "code",
      "source": [
        "!lscpu"
      ],
      "metadata": {
        "id": "T65JBTuHI5gL",
        "colab": {
          "base_uri": "https://localhost:8080/"
        },
        "outputId": "41b5c7e5-4b3a-4483-dcff-1040eaecf932"
      },
      "execution_count": null,
      "outputs": [
        {
          "output_type": "stream",
          "name": "stdout",
          "text": [
            "shell-init: error retrieving current directory: getcwd: cannot access parent directories: Transport endpoint is not connected\n",
            "Architecture:                    x86_64\n",
            "CPU op-mode(s):                  32-bit, 64-bit\n",
            "Byte Order:                      Little Endian\n",
            "Address sizes:                   46 bits physical, 48 bits virtual\n",
            "CPU(s):                          2\n",
            "On-line CPU(s) list:             0,1\n",
            "Thread(s) per core:              2\n",
            "Core(s) per socket:              1\n",
            "Socket(s):                       1\n",
            "NUMA node(s):                    1\n",
            "Vendor ID:                       GenuineIntel\n",
            "CPU family:                      6\n",
            "Model:                           85\n",
            "Model name:                      Intel(R) Xeon(R) CPU @ 2.00GHz\n",
            "Stepping:                        3\n",
            "CPU MHz:                         2000.202\n",
            "BogoMIPS:                        4000.40\n",
            "Hypervisor vendor:               KVM\n",
            "Virtualization type:             full\n",
            "L1d cache:                       32 KiB\n",
            "L1i cache:                       32 KiB\n",
            "L2 cache:                        1 MiB\n",
            "L3 cache:                        38.5 MiB\n",
            "NUMA node0 CPU(s):               0,1\n",
            "Vulnerability Itlb multihit:     Not affected\n",
            "Vulnerability L1tf:              Mitigation; PTE Inversion\n",
            "Vulnerability Mds:               Vulnerable; SMT Host state unknown\n",
            "Vulnerability Meltdown:          Vulnerable\n",
            "Vulnerability Mmio stale data:   Vulnerable\n",
            "Vulnerability Retbleed:          Vulnerable\n",
            "Vulnerability Spec store bypass: Vulnerable\n",
            "Vulnerability Spectre v1:        Vulnerable: __user pointer sanitization and use\n",
            "                                 rcopy barriers only; no swapgs barriers\n",
            "Vulnerability Spectre v2:        Vulnerable, IBPB: disabled, STIBP: disabled, PB\n",
            "                                 RSB-eIBRS: Not affected\n",
            "Vulnerability Srbds:             Not affected\n",
            "Vulnerability Tsx async abort:   Vulnerable\n",
            "Flags:                           fpu vme de pse tsc msr pae mce cx8 apic sep mtr\n",
            "                                 r pge mca cmov pat pse36 clflush mmx fxsr sse s\n",
            "                                 se2 ss ht syscall nx pdpe1gb rdtscp lm constant\n",
            "                                 _tsc rep_good nopl xtopology nonstop_tsc cpuid \n",
            "                                 tsc_known_freq pni pclmulqdq ssse3 fma cx16 pci\n",
            "                                 d sse4_1 sse4_2 x2apic movbe popcnt aes xsave a\n",
            "                                 vx f16c rdrand hypervisor lahf_lm abm 3dnowpref\n",
            "                                 etch invpcid_single ssbd ibrs ibpb stibp fsgsba\n",
            "                                 se tsc_adjust bmi1 hle avx2 smep bmi2 erms invp\n",
            "                                 cid rtm mpx avx512f avx512dq rdseed adx smap cl\n",
            "                                 flushopt clwb avx512cd avx512bw avx512vl xsaveo\n",
            "                                 pt xsavec xgetbv1 xsaves arat md_clear arch_cap\n",
            "                                 abilities\n"
          ]
        }
      ]
    },
    {
      "cell_type": "code",
      "source": [
        "np.save('/content/drive/MyDrive/PARSE/PAS/weights/swin30_dice_val2.npy', metric_values)\n",
        "np.save('/content/drive/MyDrive/PARSE/PAS/weights/swin30_epoch_loss2.npy', epoch_loss_values)"
      ],
      "metadata": {
        "id": "s9B87po6W118"
      },
      "execution_count": null,
      "outputs": []
    },
    {
      "cell_type": "markdown",
      "metadata": {
        "id": "e6d26f10"
      },
      "source": [
        "### Evaluation"
      ]
    },
    {
      "cell_type": "markdown",
      "metadata": {
        "id": "ca151ebe"
      },
      "source": [
        "### Swin Inference"
      ]
    },
    {
      "cell_type": "code",
      "source": [
        "case_num = 4\n",
        "sl = 85\n",
        "root_dir = '/content/drive/MyDrive/PARSE/PAS/weights/max'\n",
        "model.load_state_dict(torch.load(os.path.join(root_dir, \"swin_fusion_od2.pth\")))\n",
        "model.eval()\n",
        "with torch.no_grad():\n",
        "    # img_name = os.path.split(val_ds[case_num]['image'])[1]\n",
        "    img = val_ds[case_num][\"image\"]\n",
        "    label = val_ds[case_num][\"label\"]\n",
        "    val_inputs = torch.unsqueeze(img, 1).cuda()\n",
        "    val_labels = torch.unsqueeze(label, 1).cuda()\n",
        "    val_outputs = sliding_window_inference(\n",
        "        val_inputs, (96, 96, 96), 2, model, overlap=0.25\n",
        "    )\n",
        "    plt.figure(\"check\", (18, 6))\n",
        "    plt.subplot(1, 3, 1)\n",
        "    plt.title(\"image\")\n",
        "    plt.imshow(val_inputs.cpu().numpy()[0, 0, :, :, sl], cmap=\"gray\")\n",
        "    plt.subplot(1, 3, 2)\n",
        "    plt.title(\"label\")\n",
        "    plt.imshow(val_labels.cpu().numpy()[0, 0, :, :, sl])\n",
        "    plt.subplot(1, 3, 3)\n",
        "    plt.title(\"output\")\n",
        "    plt.imshow(\n",
        "        torch.argmax(val_outputs, dim=1).detach().cpu()[0, :, :, sl]\n",
        "    )\n",
        "    plt.show()"
      ],
      "metadata": {
        "colab": {
          "base_uri": "https://localhost:8080/",
          "height": 493
        },
        "id": "_wxWUBDWoA0w",
        "outputId": "d11898cc-73ff-4f7a-8c3d-91ad62e4fd8a"
      },
      "execution_count": null,
      "outputs": [
        {
          "output_type": "display_data",
          "data": {
            "text/plain": [
              "<Figure size 1800x600 with 3 Axes>"
            ],
            "image/png": "[encoded data removed]"
          },
          "metadata": {}
        }
      ]
    },
    {
      "cell_type": "code",
      "execution_count": null,
      "metadata": {
        "id": "9e03ce55",
        "colab": {
          "base_uri": "https://localhost:8080/",
          "height": 359
        },
        "outputId": "c1653ae8-c9c8-403f-beeb-395dbd7e7ad9"
      },
      "outputs": [
        {
          "output_type": "display_data",
          "data": {
            "text/plain": [
              "<Figure size 1296x432 with 3 Axes>"
            ],
            "image/png": "[encoded data removed]"
          },
          "metadata": {
            "needs_background": "light"
          }
        }
      ],
      "source": [
        "case_num = 4\n",
        "sl = 40\n",
        "# root_dir = '/content/drive/MyDrive/PARSE/PAS/weights'\n",
        "# model.load_state_dict(torch.load(os.path.join(root_dir, \"best_metric_model_swin.pth\")))\n",
        "model.eval()\n",
        "with torch.no_grad():\n",
        "    # img_name = os.path.split(val_ds[case_num]['image'])[1]\n",
        "    img = val_ds[case_num][\"image\"]\n",
        "    label = val_ds[case_num][\"label\"]\n",
        "    val_inputs = torch.unsqueeze(img, 1).cuda()\n",
        "    val_labels = torch.unsqueeze(label, 1).cuda()\n",
        "    val_outputs = sliding_window_inference(\n",
        "        val_inputs, (96, 96, 96), 2, model, overlap=0.25\n",
        "    )\n",
        "    plt.figure(\"check\", (18, 6))\n",
        "    plt.subplot(1, 3, 1)\n",
        "    plt.title(\"image\")\n",
        "    plt.imshow(val_inputs.cpu().numpy()[0, 0, :, :, sl], cmap=\"gray\")\n",
        "    plt.subplot(1, 3, 2)\n",
        "    plt.title(\"label\")\n",
        "    plt.imshow(val_labels.cpu().numpy()[0, 0, :, :, sl])\n",
        "    plt.subplot(1, 3, 3)\n",
        "    plt.title(\"output\")\n",
        "    plt.imshow(\n",
        "        torch.argmax(val_outputs, dim=1).detach().cpu()[0, :, :, sl]\n",
        "    )\n",
        "    plt.show()"
      ]
    }
  ]
}